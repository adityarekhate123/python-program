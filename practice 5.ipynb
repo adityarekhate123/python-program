{
 "cells": [
  {
   "cell_type": "markdown",
   "id": "318c6d05",
   "metadata": {},
   "source": [
    "1.write python programme for different set operation "
   ]
  },
  {
   "cell_type": "code",
   "execution_count": 1,
   "id": "a3a60d10",
   "metadata": {},
   "outputs": [],
   "source": [
    "a={1,2,3,4,52,6,1,23,}\n",
    "b={5,6,8,1,2,4,36,5,8}"
   ]
  },
  {
   "cell_type": "code",
   "execution_count": 3,
   "id": "ee5097b6",
   "metadata": {},
   "outputs": [
    {
     "name": "stdout",
     "output_type": "stream",
     "text": [
      "the union of a and b is {1, 2, 3, 4, 5, 6, 36, 8, 52, 23}\n"
     ]
    }
   ],
   "source": [
    "#union\n",
    "print(\"the union of a and b is\",a|b)  #unique element"
   ]
  },
  {
   "cell_type": "code",
   "execution_count": 4,
   "id": "58442b1e",
   "metadata": {},
   "outputs": [
    {
     "name": "stdout",
     "output_type": "stream",
     "text": [
      "the tersection  of a and b is {1, 2, 4, 6}\n"
     ]
    }
   ],
   "source": [
    "#intersection\n",
    "print(\"the intersection  of a and b is\",a&b)  #common element"
   ]
  },
  {
   "cell_type": "code",
   "execution_count": 5,
   "id": "c8f7853b",
   "metadata": {},
   "outputs": [
    {
     "name": "stdout",
     "output_type": "stream",
     "text": [
      "the differnce of a and b is {3, 52, 23}\n"
     ]
    }
   ],
   "source": [
    "#difference\n",
    "print(\"the differnce of a and b is\",a-b)   #diffrent element from both lis present in a but not in b"
   ]
  },
  {
   "cell_type": "code",
   "execution_count": 6,
   "id": "ef5bd70e",
   "metadata": {},
   "outputs": [
    {
     "name": "stdout",
     "output_type": "stream",
     "text": [
      "the symmetric difference of a and b is {3, 52, 5, 23, 36, 8}\n"
     ]
    }
   ],
   "source": [
    "#symmentric difference\n",
    "print(\"the symmetric difference of a and b is\",a^b)"
   ]
  },
  {
   "cell_type": "markdown",
   "id": "775e572b",
   "metadata": {},
   "source": [
    "2.write a python progrmme to display current date and time"
   ]
  },
  {
   "cell_type": "code",
   "execution_count": 27,
   "id": "b0ccdbb0",
   "metadata": {},
   "outputs": [
    {
     "name": "stdout",
     "output_type": "stream",
     "text": [
      "2023-01-24 09:55:02.942200\n"
     ]
    }
   ],
   "source": [
    "import datetime\n",
    "#datetime.datetime.now()\n",
    "print(now)"
   ]
  },
  {
   "cell_type": "markdown",
   "id": "17ceb6aa",
   "metadata": {},
   "source": [
    "3.write a python progrmme which accept rediuse of circle and give the area of circle"
   ]
  },
  {
   "cell_type": "code",
   "execution_count": null,
   "id": "ca87918c",
   "metadata": {},
   "outputs": [],
   "source": [
    "pi=3.142\n",
    "r=int(float('enter the rediuse of circle'))\n",
    "a=pi*"
   ]
  },
  {
   "cell_type": "code",
   "execution_count": 30,
   "id": "b70aab25",
   "metadata": {},
   "outputs": [
    {
     "name": "stdout",
     "output_type": "stream",
     "text": [
      "enter the rediuse of circle5\n",
      "78.55\n"
     ]
    }
   ],
   "source": [
    "pi=3.142\n",
    "r=int(float(input('enter the rediuse of circle')))\n",
    "\n",
    "def areaofcircle(r):\n",
    "    areaofcircle=pi*r**2\n",
    "    print(areaofcircle)\n",
    "areaofcircle(r)"
   ]
  },
  {
   "cell_type": "markdown",
   "id": "2d448f49",
   "metadata": {},
   "source": [
    "4.write a python programe which accept user fname and kname and print in reverse order"
   ]
  },
  {
   "cell_type": "code",
   "execution_count": 31,
   "id": "b9ea4d75",
   "metadata": {},
   "outputs": [
    {
     "name": "stdout",
     "output_type": "stream",
     "text": [
      "enter fname aditya\n",
      "enter last namerekhate\n",
      "rekhate aditya\n"
     ]
    }
   ],
   "source": [
    "fname=str(input(\"enter fname \"))\n",
    "lname=str(input(\"enter last name\"))\n",
    "print(lname,fname)"
   ]
  },
  {
   "cell_type": "markdown",
   "id": "f7e733a3",
   "metadata": {},
   "source": [
    "5.write a python programme to comma seferated number and generate list and tuple"
   ]
  },
  {
   "cell_type": "code",
   "execution_count": 61,
   "id": "b0ccc47b",
   "metadata": {},
   "outputs": [
    {
     "name": "stdout",
     "output_type": "stream",
     "text": [
      "enter comma saparated number 5,8,9,5\n"
     ]
    },
    {
     "ename": "TypeError",
     "evalue": "'list' object is not callable",
     "output_type": "error",
     "traceback": [
      "\u001b[1;31m---------------------------------------------------------------------------\u001b[0m",
      "\u001b[1;31mTypeError\u001b[0m                                 Traceback (most recent call last)",
      "Cell \u001b[1;32mIn [61], line 3\u001b[0m\n\u001b[0;32m      1\u001b[0m number \u001b[38;5;241m=\u001b[39m \u001b[38;5;28minput\u001b[39m(\u001b[38;5;124m\"\u001b[39m\u001b[38;5;124menter comma saparated number \u001b[39m\u001b[38;5;124m\"\u001b[39m)\n\u001b[0;32m      2\u001b[0m \u001b[38;5;28mlist\u001b[39m \u001b[38;5;241m=\u001b[39m number\u001b[38;5;241m.\u001b[39msplit(\u001b[38;5;124m\"\u001b[39m\u001b[38;5;124m,\u001b[39m\u001b[38;5;124m\"\u001b[39m)\n\u001b[1;32m----> 3\u001b[0m \u001b[38;5;28mtuple\u001b[39m \u001b[38;5;241m=\u001b[39m \u001b[38;5;28;43mlist\u001b[39;49m\u001b[43m(\u001b[49m\u001b[38;5;28;43mlist\u001b[39;49m\u001b[43m)\u001b[49m\n\u001b[0;32m      4\u001b[0m \u001b[38;5;28mprint\u001b[39m(\u001b[38;5;124m\"\u001b[39m\u001b[38;5;124mlist :\u001b[39m\u001b[38;5;124m\"\u001b[39m , \u001b[38;5;28mlist\u001b[39m)\n\u001b[0;32m      6\u001b[0m \u001b[38;5;28mprint\u001b[39m(\u001b[38;5;124m\"\u001b[39m\u001b[38;5;124mtuple :\u001b[39m\u001b[38;5;124m\"\u001b[39m , \u001b[38;5;28mtuple\u001b[39m)\n",
      "\u001b[1;31mTypeError\u001b[0m: 'list' object is not callable"
     ]
    }
   ],
   "source": [
    "number = input(\"enter comma saparated number \")\n",
    "list = number.split(\",\")\n",
    "tuple = tuple(list)\n",
    "print(\"list :\" , list)\n",
    "\n",
    "print(\"tuple :\" , tuple)"
   ]
  },
  {
   "cell_type": "markdown",
   "id": "d6046837",
   "metadata": {},
   "source": [
    "6.write a python programme to accept a list and display first and last "
   ]
  },
  {
   "cell_type": "code",
   "execution_count": 47,
   "id": "0d13ac50",
   "metadata": {},
   "outputs": [],
   "source": [
    "colour_list=[\"red\",\"blue\",\"yello\",\"black\",\"green\"]"
   ]
  },
  {
   "cell_type": "code",
   "execution_count": 52,
   "id": "d7a27934",
   "metadata": {},
   "outputs": [
    {
     "name": "stdout",
     "output_type": "stream",
     "text": [
      "first colur is  red and last name of colur is green\n"
     ]
    }
   ],
   "source": [
    "print(f\"first colur is  {colour_list[0]} and last name of colur is {colour_list[-1]}\")"
   ]
  },
  {
   "cell_type": "markdown",
   "id": "ef923608",
   "metadata": {},
   "source": [
    "7.write python programme to display calender of given month"
   ]
  },
  {
   "cell_type": "code",
   "execution_count": 54,
   "id": "dae3c641",
   "metadata": {},
   "outputs": [],
   "source": [
    "import calendar"
   ]
  },
  {
   "cell_type": "code",
   "execution_count": 56,
   "id": "74e8a8bd",
   "metadata": {},
   "outputs": [
    {
     "name": "stdout",
     "output_type": "stream",
     "text": [
      "enter year2023\n",
      "enter month1\n"
     ]
    },
    {
     "data": {
      "text/plain": [
       "'    January 2023\\nMo Tu We Th Fr Sa Su\\n                   1\\n 2  3  4  5  6  7  8\\n 9 10 11 12 13 14 15\\n16 17 18 19 20 21 22\\n23 24 25 26 27 28 29\\n30 31\\n'"
      ]
     },
     "execution_count": 56,
     "metadata": {},
     "output_type": "execute_result"
    }
   ],
   "source": [
    "year=int(input(\"enter year\"))\n",
    "month=int(input(\"enter month\"))\n",
    "calendar.month(year,month)  #it give month calender"
   ]
  },
  {
   "cell_type": "code",
   "execution_count": 57,
   "id": "832f286d",
   "metadata": {},
   "outputs": [
    {
     "data": {
      "text/plain": [
       "'                                  2023\\n\\n      January                   February                   March\\nMo Tu We Th Fr Sa Su      Mo Tu We Th Fr Sa Su      Mo Tu We Th Fr Sa Su\\n                   1             1  2  3  4  5             1  2  3  4  5\\n 2  3  4  5  6  7  8       6  7  8  9 10 11 12       6  7  8  9 10 11 12\\n 9 10 11 12 13 14 15      13 14 15 16 17 18 19      13 14 15 16 17 18 19\\n16 17 18 19 20 21 22      20 21 22 23 24 25 26      20 21 22 23 24 25 26\\n23 24 25 26 27 28 29      27 28                     27 28 29 30 31\\n30 31\\n\\n       April                      May                       June\\nMo Tu We Th Fr Sa Su      Mo Tu We Th Fr Sa Su      Mo Tu We Th Fr Sa Su\\n                1  2       1  2  3  4  5  6  7                1  2  3  4\\n 3  4  5  6  7  8  9       8  9 10 11 12 13 14       5  6  7  8  9 10 11\\n10 11 12 13 14 15 16      15 16 17 18 19 20 21      12 13 14 15 16 17 18\\n17 18 19 20 21 22 23      22 23 24 25 26 27 28      19 20 21 22 23 24 25\\n24 25 26 27 28 29 30      29 30 31                  26 27 28 29 30\\n\\n        July                     August                  September\\nMo Tu We Th Fr Sa Su      Mo Tu We Th Fr Sa Su      Mo Tu We Th Fr Sa Su\\n                1  2          1  2  3  4  5  6                   1  2  3\\n 3  4  5  6  7  8  9       7  8  9 10 11 12 13       4  5  6  7  8  9 10\\n10 11 12 13 14 15 16      14 15 16 17 18 19 20      11 12 13 14 15 16 17\\n17 18 19 20 21 22 23      21 22 23 24 25 26 27      18 19 20 21 22 23 24\\n24 25 26 27 28 29 30      28 29 30 31               25 26 27 28 29 30\\n31\\n\\n      October                   November                  December\\nMo Tu We Th Fr Sa Su      Mo Tu We Th Fr Sa Su      Mo Tu We Th Fr Sa Su\\n                   1             1  2  3  4  5                   1  2  3\\n 2  3  4  5  6  7  8       6  7  8  9 10 11 12       4  5  6  7  8  9 10\\n 9 10 11 12 13 14 15      13 14 15 16 17 18 19      11 12 13 14 15 16 17\\n16 17 18 19 20 21 22      20 21 22 23 24 25 26      18 19 20 21 22 23 24\\n23 24 25 26 27 28 29      27 28 29 30               25 26 27 28 29 30 31\\n30 31\\n'"
      ]
     },
     "execution_count": 57,
     "metadata": {},
     "output_type": "execute_result"
    }
   ],
   "source": [
    "calendar.calendar(year,month)  #it give all month  from given year"
   ]
  },
  {
   "cell_type": "markdown",
   "id": "dbe251d4",
   "metadata": {},
   "source": [
    "8.write a python programme to calculate number of days between two dates"
   ]
  },
  {
   "cell_type": "code",
   "execution_count": 60,
   "id": "4d34510a",
   "metadata": {},
   "outputs": [
    {
     "name": "stdout",
     "output_type": "stream",
     "text": [
      "-383 days, 0:00:00\n"
     ]
    }
   ],
   "source": [
    "from datetime import date\n",
    "f_date=date(2014,7,2)\n",
    "l_date=date(2015,7,20)\n",
    "diff=f_date-l_date\n",
    "print(diff)"
   ]
  },
  {
   "cell_type": "code",
   "execution_count": null,
   "id": "1a40dceb",
   "metadata": {},
   "outputs": [],
   "source": []
  },
  {
   "cell_type": "code",
   "execution_count": null,
   "id": "b8985bd6",
   "metadata": {},
   "outputs": [],
   "source": []
  },
  {
   "cell_type": "code",
   "execution_count": null,
   "id": "909cf8ce",
   "metadata": {},
   "outputs": [],
   "source": []
  }
 ],
 "metadata": {
  "kernelspec": {
   "display_name": "Python 3 (ipykernel)",
   "language": "python",
   "name": "python3"
  },
  "language_info": {
   "codemirror_mode": {
    "name": "ipython",
    "version": 3
   },
   "file_extension": ".py",
   "mimetype": "text/x-python",
   "name": "python",
   "nbconvert_exporter": "python",
   "pygments_lexer": "ipython3",
   "version": "3.11.0"
  }
 },
 "nbformat": 4,
 "nbformat_minor": 5
}
