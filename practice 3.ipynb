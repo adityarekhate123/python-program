{
 "cells": [
  {
   "cell_type": "markdown",
   "id": "c56693bb",
   "metadata": {},
   "source": [
    "1.write python program to build simple calculater"
   ]
  },
  {
   "cell_type": "code",
   "execution_count": 7,
   "id": "e64bfeba",
   "metadata": {},
   "outputs": [
    {
     "name": "stdout",
     "output_type": "stream",
     "text": [
      "enter no10\n",
      "enter the operator (*,/,-,+,%)/\n",
      "enter no22\n",
      "5.0\n"
     ]
    }
   ],
   "source": [
    "num1=int(input('enter no'))\n",
    "operator=input(\"enter the operator (*,/,-,+,%)\")\n",
    "num2=int(input(\"enter no2\"))\n",
    "if operator ==\"+\":\n",
    "    print(num1+num2)\n",
    "elif operator ==\"-\":\n",
    "    print(num1-num2)\n",
    "elif operator==\"*\":\n",
    "    print(num1*num2)\n",
    "elif operator==\"/\":\n",
    "    print(num1/num2)\n",
    "else:\n",
    "    print(\"invalid number\")"
   ]
  },
  {
   "cell_type": "markdown",
   "id": "8bc81f45",
   "metadata": {},
   "source": [
    "2.write python program to suffle deck of card"
   ]
  },
  {
   "cell_type": "code",
   "execution_count": 11,
   "id": "447b3e14",
   "metadata": {},
   "outputs": [],
   "source": [
    "import random , itertools"
   ]
  },
  {
   "cell_type": "code",
   "execution_count": 15,
   "id": "9f14e851",
   "metadata": {},
   "outputs": [],
   "source": [
    "deck=list(itertools.product(range(1,14),[\"spade\",\"diamond\",\"club\",\"hearts\"]))"
   ]
  },
  {
   "cell_type": "code",
   "execution_count": 16,
   "id": "60aa4942",
   "metadata": {},
   "outputs": [],
   "source": [
    "random.shuffle(deck)"
   ]
  },
  {
   "cell_type": "code",
   "execution_count": 24,
   "id": "a7eb2f11",
   "metadata": {},
   "outputs": [
    {
     "name": "stdout",
     "output_type": "stream",
     "text": [
      "6 hearts\n",
      "7 club\n",
      "13 hearts\n",
      "13 spade\n",
      "8 spade\n"
     ]
    }
   ],
   "source": [
    "for i in range(5):\n",
    "    print(deck[i][0],deck[i][1])"
   ]
  },
  {
   "cell_type": "markdown",
   "id": "77202c9e",
   "metadata": {},
   "source": [
    "3.write python program to factorial number"
   ]
  },
  {
   "cell_type": "code",
   "execution_count": 42,
   "id": "50568f3d",
   "metadata": {},
   "outputs": [
    {
     "name": "stdout",
     "output_type": "stream",
     "text": [
      "enter a number5\n",
      "the factorial of 5 is 120\n"
     ]
    }
   ],
   "source": [
    "def factorial(num):\n",
    "    if num<1:\n",
    "        return 1\n",
    "    else:\n",
    "        return num *factorial(num-1)\n",
    "num=int(input(\"enter a number\"))\n",
    "value=factorial(num)\n",
    "print(f\"the factorial of {num} is {value}\")"
   ]
  },
  {
   "cell_type": "markdown",
   "id": "7043b89b",
   "metadata": {},
   "source": [
    " 4.write a python programe for display the calender"
   ]
  },
  {
   "cell_type": "code",
   "execution_count": 45,
   "id": "ac686124",
   "metadata": {},
   "outputs": [],
   "source": [
    "import calendar"
   ]
  },
  {
   "cell_type": "code",
   "execution_count": 54,
   "id": "e257f5dd",
   "metadata": {},
   "outputs": [
    {
     "name": "stdout",
     "output_type": "stream",
     "text": [
      "enter a year2020\n",
      "enter a month12\n"
     ]
    },
    {
     "data": {
      "text/plain": [
       "'   December 2020\\nMo Tu We Th Fr Sa Su\\n    1  2  3  4  5  6\\n 7  8  9 10 11 12 13\\n14 15 16 17 18 19 20\\n21 22 23 24 25 26 27\\n28 29 30 31\\n'"
      ]
     },
     "execution_count": 54,
     "metadata": {},
     "output_type": "execute_result"
    }
   ],
   "source": [
    "year=int(input(\"enter a year\"))\n",
    "month=int(input(\"enter a month\"))\n",
    "calendar.month(year,month)"
   ]
  },
  {
   "cell_type": "markdown",
   "id": "4c4bf52c",
   "metadata": {},
   "source": [
    "5.write python program for add two matrics"
   ]
  },
  {
   "cell_type": "code",
   "execution_count": 64,
   "id": "f031f4e1",
   "metadata": {},
   "outputs": [],
   "source": [
    "a=[[2,4,5],[5,6,8],[4,8,9]]  #2*3"
   ]
  },
  {
   "cell_type": "code",
   "execution_count": 65,
   "id": "1ea60763",
   "metadata": {},
   "outputs": [],
   "source": [
    "b=[[5,8,9],[8,9,8],[7,5,9]]"
   ]
  },
  {
   "cell_type": "code",
   "execution_count": 66,
   "id": "e6b2732c",
   "metadata": {},
   "outputs": [],
   "source": [
    "result=[[0,0,0],[0,0,0],[0,0,0]]"
   ]
  },
  {
   "cell_type": "code",
   "execution_count": 60,
   "id": "ab7c1471",
   "metadata": {},
   "outputs": [
    {
     "data": {
      "text/plain": [
       "[[7, 12, 14], [13, 15, 16], [11, 13, 18]]"
      ]
     },
     "execution_count": 60,
     "metadata": {},
     "output_type": "execute_result"
    }
   ],
   "source": [
    "for i in range(len(a)):\n",
    "    for j in range(len(a[0])):\n",
    "        result[i][j]=a[i][j]+b[i][j]\n",
    "        \n",
    "result"
   ]
  },
  {
   "cell_type": "code",
   "execution_count": 68,
   "id": "afa14f8f",
   "metadata": {},
   "outputs": [
    {
     "data": {
      "text/plain": [
       "[[-3, -4, -4], [-3, -3, 0], [-3, 3, 0]]"
      ]
     },
     "execution_count": 68,
     "metadata": {},
     "output_type": "execute_result"
    }
   ],
   "source": [
    "#multiplication\n",
    "\n",
    "for i in range(len(a)):\n",
    "    for j in range(len(a[0])):\n",
    "        result[i][j]=a[i][j]-b[i][j]\n",
    "        \n",
    "result"
   ]
  },
  {
   "cell_type": "code",
   "execution_count": 62,
   "id": "5950e837",
   "metadata": {},
   "outputs": [
    {
     "data": {
      "text/plain": [
       "[[-3, -4, -4], [-3, -3, 0], [-3, 3, 0]]"
      ]
     },
     "execution_count": 62,
     "metadata": {},
     "output_type": "execute_result"
    }
   ],
   "source": [
    "#subtraction\n",
    "\n",
    "for i in range(len(a)):\n",
    "    for j in range(len(a[0])):\n",
    "        result[i][j]=a[i][j]-b[i][j]\n",
    "        \n",
    "result"
   ]
  },
  {
   "cell_type": "code",
   "execution_count": null,
   "id": "b962f1d3",
   "metadata": {},
   "outputs": [],
   "source": []
  },
  {
   "cell_type": "code",
   "execution_count": null,
   "id": "e5ce68c6",
   "metadata": {},
   "outputs": [],
   "source": []
  },
  {
   "cell_type": "code",
   "execution_count": null,
   "id": "9f3c6ddb",
   "metadata": {},
   "outputs": [],
   "source": []
  },
  {
   "cell_type": "code",
   "execution_count": null,
   "id": "954d68b3",
   "metadata": {},
   "outputs": [],
   "source": []
  },
  {
   "cell_type": "code",
   "execution_count": null,
   "id": "bea4d1d5",
   "metadata": {},
   "outputs": [],
   "source": []
  }
 ],
 "metadata": {
  "kernelspec": {
   "display_name": "Python 3 (ipykernel)",
   "language": "python",
   "name": "python3"
  },
  "language_info": {
   "codemirror_mode": {
    "name": "ipython",
    "version": 3
   },
   "file_extension": ".py",
   "mimetype": "text/x-python",
   "name": "python",
   "nbconvert_exporter": "python",
   "pygments_lexer": "ipython3",
   "version": "3.11.0"
  }
 },
 "nbformat": 4,
 "nbformat_minor": 5
}
