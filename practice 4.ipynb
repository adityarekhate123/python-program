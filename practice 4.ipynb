{
 "cells": [
  {
   "cell_type": "markdown",
   "id": "7af66a1e",
   "metadata": {},
   "source": [
    "1.write a python programe for transpose of matrix"
   ]
  },
  {
   "cell_type": "code",
   "execution_count": 1,
   "id": "8d3712b1",
   "metadata": {},
   "outputs": [],
   "source": [
    "A=[[1,2,3],\n",
    "   [4,5,6]]"
   ]
  },
  {
   "cell_type": "code",
   "execution_count": 7,
   "id": "adf33487",
   "metadata": {},
   "outputs": [
    {
     "data": {
      "text/plain": [
       "[[1, 2, 3], [4, 5, 6]]"
      ]
     },
     "execution_count": 7,
     "metadata": {},
     "output_type": "execute_result"
    }
   ],
   "source": [
    "A"
   ]
  },
  {
   "cell_type": "code",
   "execution_count": 14,
   "id": "b8099269",
   "metadata": {},
   "outputs": [],
   "source": [
    "T=[[0,0],\n",
    "   [0,0],\n",
    "   [0,0]]"
   ]
  },
  {
   "cell_type": "code",
   "execution_count": 17,
   "id": "166018a6",
   "metadata": {},
   "outputs": [
    {
     "name": "stdout",
     "output_type": "stream",
     "text": [
      "[1, 4]\n",
      "[2, 5]\n",
      "[3, 6]\n"
     ]
    }
   ],
   "source": [
    "for i in range(len(A)):# ROW\n",
    "    for j in range(len(A[0])):#COLUMN \n",
    "        T[j][i]=A[i][j]\n",
    "for i in T:\n",
    "        \n",
    "    print(i)"
   ]
  },
  {
   "cell_type": "markdown",
   "id": "0ec992cf",
   "metadata": {},
   "source": [
    "2.write a python programe to given word is palidroma or not "
   ]
  },
  {
   "cell_type": "code",
   "execution_count": 21,
   "id": "58fbe139",
   "metadata": {},
   "outputs": [
    {
     "name": "stdout",
     "output_type": "stream",
     "text": [
      "enter a wordswow\n",
      "it is a palidroma\n"
     ]
    }
   ],
   "source": [
    "a=input(\"enter a words\")\n",
    "rev=a[::-1]\n",
    "if a==rev:\n",
    "    print(\"it is a palidroma\")\n",
    "else:\n",
    "    print(\"it is not palidroma\")   #madam wow"
   ]
  },
  {
   "cell_type": "markdown",
   "id": "80a6c348",
   "metadata": {},
   "source": [
    "3.write python programme to remove punctuations from a string [;,,.''\"]"
   ]
  },
  {
   "cell_type": "code",
   "execution_count": 27,
   "id": "d30c343f",
   "metadata": {},
   "outputs": [
    {
     "name": "stdout",
     "output_type": "stream",
     "text": [
      "enter a stringhello!! aditya $$ what is %% is going ( on\n",
      "hello aditya  what is  is going  on\n"
     ]
    }
   ],
   "source": [
    "punch= '''-=/*/,.1:?/+*!@#$%^&*()}'''\n",
    "string =input(\"enter a string\")\n",
    "empty_str=\"\"\n",
    "for i in string:\n",
    "    if i not in punch:\n",
    "        empty_str=empty_str+i\n",
    "print(empty_str)"
   ]
  },
  {
   "cell_type": "markdown",
   "id": "980b0c79",
   "metadata": {},
   "source": [
    "4.write a python programme to multiply matrix"
   ]
  },
  {
   "cell_type": "code",
   "execution_count": 125,
   "id": "76c7d952",
   "metadata": {},
   "outputs": [],
   "source": [
    "a=[[1,2,3],\n",
    "   [4,5,6],  #1st matrix row =2nd matrix column a       3*[3--3]*4\n",
    "   [7,8,9]]"
   ]
  },
  {
   "cell_type": "code",
   "execution_count": 129,
   "id": "26210e1e",
   "metadata": {},
   "outputs": [],
   "source": [
    "b=[[7,8],\n",
    "  [4,5],\n",
    "  [1,2]]"
   ]
  },
  {
   "cell_type": "code",
   "execution_count": 130,
   "id": "3390a140",
   "metadata": {},
   "outputs": [],
   "source": [
    "result=[[0,0,0,0],\n",
    "        [0,0,0,0],\n",
    "        [0,0,0,0]]"
   ]
  },
  {
   "cell_type": "code",
   "execution_count": 131,
   "id": "38e45223",
   "metadata": {},
   "outputs": [
    {
     "name": "stdout",
     "output_type": "stream",
     "text": [
      "[18, 24, 0, 0]\n",
      "[54, 69, 0, 0]\n",
      "[90, 114, 0, 0]\n"
     ]
    }
   ],
   "source": [
    "for i in range(len(a)):#for row\n",
    "    for j in range(len(b[0])): #for column\n",
    "        for k in range(len(b)):\n",
    "            result[i][j]+=a[i][k]*b[k][j]\n",
    "\n",
    "for i in result:\n",
    "    print(i)\n",
    "    \n",
    "    "
   ]
  },
  {
   "cell_type": "markdown",
   "id": "3dbabe47",
   "metadata": {},
   "source": [
    "5.write a python programe to sort a string in lowr case"
   ]
  },
  {
   "cell_type": "code",
   "execution_count": 137,
   "id": "0dc3adc9",
   "metadata": {},
   "outputs": [],
   "source": [
    "a=\"Harry Potter And the Goblet Of Fire\""
   ]
  },
  {
   "cell_type": "code",
   "execution_count": 138,
   "id": "d629564c",
   "metadata": {},
   "outputs": [],
   "source": [
    "w=a.split(\" \")"
   ]
  },
  {
   "cell_type": "code",
   "execution_count": 139,
   "id": "12633e06",
   "metadata": {},
   "outputs": [
    {
     "data": {
      "text/plain": [
       "['Harry', 'Potter', 'And', 'the', 'Goblet', 'Of', 'Fire']"
      ]
     },
     "execution_count": 139,
     "metadata": {},
     "output_type": "execute_result"
    }
   ],
   "source": [
    "w"
   ]
  },
  {
   "cell_type": "code",
   "execution_count": 145,
   "id": "6371cefa",
   "metadata": {},
   "outputs": [
    {
     "name": "stdout",
     "output_type": "stream",
     "text": [
      "['harry', 'potter', 'and', 'the', 'goblet', 'of', 'fire']\n"
     ]
    }
   ],
   "source": [
    "list=[]\n",
    "for i in range(len(w)):\n",
    "    list.append(w[i].lower())\n",
    "print(list)"
   ]
  }
 ],
 "metadata": {
  "kernelspec": {
   "display_name": "Python 3 (ipykernel)",
   "language": "python",
   "name": "python3"
  },
  "language_info": {
   "codemirror_mode": {
    "name": "ipython",
    "version": 3
   },
   "file_extension": ".py",
   "mimetype": "text/x-python",
   "name": "python",
   "nbconvert_exporter": "python",
   "pygments_lexer": "ipython3",
   "version": "3.11.0"
  }
 },
 "nbformat": 4,
 "nbformat_minor": 5
}
