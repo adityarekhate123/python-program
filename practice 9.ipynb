{
 "cells": [
  {
   "cell_type": "markdown",
   "id": "c8333ba9",
   "metadata": {},
   "source": [
    "1.write a python program for list comprehension"
   ]
  },
  {
   "cell_type": "code",
   "execution_count": 13,
   "id": "e905b98d",
   "metadata": {},
   "outputs": [
    {
     "data": {
      "text/plain": [
       "[0, 1, 4, 9, 16, 25, 36, 49, 64, 81]"
      ]
     },
     "execution_count": 13,
     "metadata": {},
     "output_type": "execute_result"
    }
   ],
   "source": [
    "n=[i**2 for i in range(10)]\n",
    "n#for square of the numbers"
   ]
  },
  {
   "cell_type": "code",
   "execution_count": 11,
   "id": "d660e413",
   "metadata": {},
   "outputs": [],
   "source": [
    "str=[\"aditya\",\"raj\",\"vikas\"]"
   ]
  },
  {
   "cell_type": "code",
   "execution_count": 12,
   "id": "70f59921",
   "metadata": {},
   "outputs": [
    {
     "data": {
      "text/plain": [
       "['ADITYA', 'RAJ', 'VIKAS']"
      ]
     },
     "execution_count": 12,
     "metadata": {},
     "output_type": "execute_result"
    }
   ],
   "source": [
    "m=[i.upper()for i in str]  #for uppercase\n",
    "m"
   ]
  },
  {
   "cell_type": "code",
   "execution_count": 15,
   "id": "a9c316b0",
   "metadata": {},
   "outputs": [
    {
     "data": {
      "text/plain": [
       "[0, 2, 4, 6, 8, 10, 12, 14, 16, 18, 20, 22, 24]"
      ]
     },
     "execution_count": 15,
     "metadata": {},
     "output_type": "execute_result"
    }
   ],
   "source": [
    "m=[i for i in range(25) if i%2==0]\n",
    "m"
   ]
  },
  {
   "cell_type": "markdown",
   "id": "eb7a67ee",
   "metadata": {},
   "source": [
    "2.write a python program to delete element from the dictonary"
   ]
  },
  {
   "cell_type": "code",
   "execution_count": 26,
   "id": "fb423062",
   "metadata": {},
   "outputs": [
    {
     "data": {
      "text/plain": [
       "{'adity': 5, 'vishal': 8, 'vikas': 9}"
      ]
     },
     "execution_count": 26,
     "metadata": {},
     "output_type": "execute_result"
    }
   ],
   "source": [
    "dict={\"adity\":5,\"vishal\":8,\"vikas\":9}\n",
    "dict"
   ]
  },
  {
   "cell_type": "code",
   "execution_count": 27,
   "id": "94b5113b",
   "metadata": {},
   "outputs": [
    {
     "data": {
      "text/plain": [
       "{'adity': 5, 'vikas': 9}"
      ]
     },
     "execution_count": 27,
     "metadata": {},
     "output_type": "execute_result"
    }
   ],
   "source": [
    "dict.pop(\"vishal\")  #delete element from the dict\n",
    "dict"
   ]
  },
  {
   "cell_type": "code",
   "execution_count": 28,
   "id": "696bcfe5",
   "metadata": {},
   "outputs": [
    {
     "data": {
      "text/plain": [
       "{'vikas': 9}"
      ]
     },
     "execution_count": 28,
     "metadata": {},
     "output_type": "execute_result"
    }
   ],
   "source": [
    "dict.pop(\"adity\")\n",
    "dict"
   ]
  },
  {
   "cell_type": "markdown",
   "id": "aee06ec6",
   "metadata": {},
   "source": [
    "3.how to check if a string is number or string"
   ]
  },
  {
   "cell_type": "code",
   "execution_count": 14,
   "id": "22088399",
   "metadata": {},
   "outputs": [
    {
     "name": "stdout",
     "output_type": "stream",
     "text": [
      "enter a something herejj\n",
      "False\n"
     ]
    }
   ],
   "source": [
    "num=input(\"enter a something here\")\n",
    "def float_check(num):\n",
    "    try :\n",
    "        float(num)\n",
    "        return True #T capital\n",
    "    except:\n",
    "        return False  #F capital\n",
    "print(float_check(num))"
   ]
  },
  {
   "cell_type": "markdown",
   "id": "c1fc51e2",
   "metadata": {},
   "source": [
    "4.write a python programe to check number is even or odd"
   ]
  },
  {
   "cell_type": "code",
   "execution_count": 43,
   "id": "b4e932c9",
   "metadata": {},
   "outputs": [
    {
     "name": "stdout",
     "output_type": "stream",
     "text": [
      "enter a number4\n",
      "even\n",
      "None\n"
     ]
    }
   ],
   "source": [
    "num=int(input(\"enter a number\"))\n",
    "def oddoreven(num):\n",
    "    if num%2==0:\n",
    "        print(\"even\")\n",
    "    else:\n",
    "        print(\"odd\")\n",
    "print(oddoreven(num))"
   ]
  },
  {
   "cell_type": "markdown",
   "id": "106fb122",
   "metadata": {},
   "source": [
    "5.Taking multiple input from the user"
   ]
  },
  {
   "cell_type": "code",
   "execution_count": null,
   "id": "57e417e8",
   "metadata": {},
   "outputs": [],
   "source": [
    "a=input(\"enter number here\")\n",
    "b=input(\"enter number here\")\n",
    "a=input(\"enter number here\")"
   ]
  },
  {
   "cell_type": "code",
   "execution_count": 6,
   "id": "7f0d084a",
   "metadata": {},
   "outputs": [
    {
     "name": "stdout",
     "output_type": "stream",
     "text": [
      "enter thre value here25,55,55\n",
      "the value of a is  25\n",
      "the value of b is  55\n",
      "the value of c is  55\n"
     ]
    }
   ],
   "source": [
    "a,b,c=input(\"enter thre value here\").split(\",\") #give comma saferated number\n",
    "print('the value of a is ',a)\n",
    "print(\"the value of b is \",b)\n",
    "print(\"the value of c is \",c)"
   ]
  },
  {
   "cell_type": "code",
   "execution_count": 7,
   "id": "60a83a2c",
   "metadata": {},
   "outputs": [
    {
     "name": "stdout",
     "output_type": "stream",
     "text": [
      "the addition of\n",
      "135\n"
     ]
    }
   ],
   "source": [
    "print(\"the addition of\")\n",
    "print(int(a)+int(b)+int(c))"
   ]
  },
  {
   "cell_type": "code",
   "execution_count": 9,
   "id": "f45490a0",
   "metadata": {},
   "outputs": [
    {
     "name": "stdout",
     "output_type": "stream",
     "text": [
      "enter three values25 25 63\n"
     ]
    }
   ],
   "source": [
    "#by the help of list comprehension\n",
    "m,n,o=[int(i) for i in input(\"enter three values\").split()]"
   ]
  },
  {
   "cell_type": "code",
   "execution_count": 10,
   "id": "f343c9fb",
   "metadata": {},
   "outputs": [
    {
     "name": "stdout",
     "output_type": "stream",
     "text": [
      "25\n",
      "25\n",
      "63\n"
     ]
    }
   ],
   "source": [
    "print(m)\n",
    "print(n)\n",
    "print(o)"
   ]
  }
 ],
 "metadata": {
  "kernelspec": {
   "display_name": "Python 3 (ipykernel)",
   "language": "python",
   "name": "python3"
  },
  "language_info": {
   "codemirror_mode": {
    "name": "ipython",
    "version": 3
   },
   "file_extension": ".py",
   "mimetype": "text/x-python",
   "name": "python",
   "nbconvert_exporter": "python",
   "pygments_lexer": "ipython3",
   "version": "3.11.0"
  }
 },
 "nbformat": 4,
 "nbformat_minor": 5
}
