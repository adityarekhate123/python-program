{
 "cells": [
  {
   "cell_type": "markdown",
   "id": "9d3a2737",
   "metadata": {},
   "source": [
    "1.write python program to give table of any number"
   ]
  },
  {
   "cell_type": "markdown",
   "id": "0273affd",
   "metadata": {},
   "source": [
    "syntax ----for i in range(start=12,stop=120,step=12):\n",
    "    print(i)"
   ]
  },
  {
   "cell_type": "code",
   "execution_count": 11,
   "id": "76841a3c",
   "metadata": {},
   "outputs": [
    {
     "name": "stdout",
     "output_type": "stream",
     "text": [
      "12\n",
      "24\n",
      "36\n",
      "48\n",
      "60\n",
      "72\n",
      "84\n",
      "96\n",
      "108\n"
     ]
    }
   ],
   "source": [
    "for i in range(12,120,12):\n",
    "    print(i)"
   ]
  },
  {
   "cell_type": "code",
   "execution_count": 18,
   "id": "c82b29ce",
   "metadata": {},
   "outputs": [
    {
     "name": "stdout",
     "output_type": "stream",
     "text": [
      "enter start2\n",
      "enter a stop20\n",
      "enter a step2\n",
      "2\n",
      "4\n",
      "6\n",
      "8\n",
      "10\n",
      "12\n",
      "14\n",
      "16\n",
      "18\n"
     ]
    }
   ],
   "source": [
    "n=int(input(\"enter start\"))\n",
    "m=int(input(\"enter a stop\"))\n",
    "s=int(input(\"enter a step\"))\n",
    "\n",
    "for i in range(n,m,s):\n",
    "        print(i)\n",
    "        "
   ]
  },
  {
   "cell_type": "markdown",
   "id": "84542013",
   "metadata": {},
   "source": [
    "2.write a python program to fibonacci sequence"
   ]
  },
  {
   "cell_type": "code",
   "execution_count": 42,
   "id": "f60d8ad3",
   "metadata": {},
   "outputs": [
    {
     "name": "stdout",
     "output_type": "stream",
     "text": [
      "enter no of fibonacci sequence you want15\n",
      "[0, 1, 1, 2, 3, 5, 8, 13, 21, 34, 55, 89, 144, 233, 377]\n"
     ]
    }
   ],
   "source": [
    "s_count=int(input(\"enter no of fibonacci sequence you want\"))\n",
    "list=[0,1]\n",
    "if s_count<0:\n",
    "    print(\"fibonacci not available for nigative number\")\n",
    "elif s_count<=2:\n",
    "\n",
    "    print(list)\n",
    "else:\n",
    "    for i in range(s_count):\n",
    "        if i >=2:\n",
    "            list.append(list[i-1]+list[i-2])\n",
    "    print(list)"
   ]
  },
  {
   "cell_type": "markdown",
   "id": "b55335ec",
   "metadata": {},
   "source": [
    "summery for less than 2 we define list and grtter than 2 we append list i-1+listi-2"
   ]
  },
  {
   "cell_type": "markdown",
   "id": "359b05da",
   "metadata": {},
   "source": [
    "3.write python programm for armstrong number 153=1*1*1+5*5*5+3*3*3=153"
   ]
  },
  {
   "cell_type": "code",
   "execution_count": 47,
   "id": "4d3ea580",
   "metadata": {},
   "outputs": [
    {
     "name": "stdout",
     "output_type": "stream",
     "text": [
      "enter number15\n",
      "15 is not armstrong nuber\n"
     ]
    }
   ],
   "source": [
    "number = int(input(\"enter number\"))  #for 3 digit\n",
    "sum =0\n",
    "temp=number\n",
    "while temp>0:\n",
    "    digit=temp%10     #take last digit\n",
    "    cube=digit**3     \n",
    "    sum=cube+sum  #remider 3\n",
    "    temp//=10     #remove last digit\n",
    "if sum==number:\n",
    "    print(number,\"is a armstrong number\")\n",
    "else:\n",
    "    print(number,\"is not armstrong nuber\")"
   ]
  },
  {
   "cell_type": "code",
   "execution_count": 57,
   "id": "2334d11c",
   "metadata": {},
   "outputs": [
    {
     "name": "stdout",
     "output_type": "stream",
     "text": [
      "enter num1634\n",
      "ente power4\n",
      "armstrom  number\n"
     ]
    }
   ],
   "source": [
    "num=int(input(\"enter num\"))\n",
    "n=int(input(\"ente power\"))\n",
    "sum=0\n",
    "temp=num\n",
    "while temp>0:\n",
    "    digit=temp%10\n",
    "    cube=digit**n #n=how many element in number len\n",
    "    sum=cube+sum\n",
    "    temp//=10\n",
    "if sum==num:\n",
    "    print(\"armstrom  number\")\n",
    "else:\n",
    "    print(\"not armstrong number\")"
   ]
  },
  {
   "cell_type": "markdown",
   "id": "966a07ed",
   "metadata": {},
   "source": [
    "4.python programm for natural number"
   ]
  },
  {
   "cell_type": "code",
   "execution_count": 63,
   "id": "24b3ee7e",
   "metadata": {},
   "outputs": [
    {
     "name": "stdout",
     "output_type": "stream",
     "text": [
      "enter number5\n",
      "15.0\n"
     ]
    }
   ],
   "source": [
    "number=int(input(\"enter number\")) #all positive integer\n",
    "def sumofnaturaln(number):\n",
    "    sumofnaturaln=number*(number+1)/2\n",
    "    print(sumofnaturaln)\n",
    "sumofnaturaln(number)    "
   ]
  },
  {
   "cell_type": "markdown",
   "id": "4548e76e",
   "metadata": {},
   "source": [
    "5.write python programm for power of any number"
   ]
  },
  {
   "cell_type": "code",
   "execution_count": 69,
   "id": "f7b9a32f",
   "metadata": {},
   "outputs": [
    {
     "name": "stdout",
     "output_type": "stream",
     "text": [
      "enter a number12\n",
      "enter a power2\n",
      "144\n"
     ]
    }
   ],
   "source": [
    "number =int(input(\"enter a number\"))\n",
    "n =int(input(\"enter a power\"))\n",
    "def power(number):\n",
    "    value=number**n\n",
    "    print(value)\n",
    "    \n",
    "power(number)"
   ]
  },
  {
   "cell_type": "code",
   "execution_count": null,
   "id": "ecd2ea84",
   "metadata": {},
   "outputs": [],
   "source": []
  },
  {
   "cell_type": "code",
   "execution_count": null,
   "id": "3511393d",
   "metadata": {},
   "outputs": [],
   "source": []
  },
  {
   "cell_type": "code",
   "execution_count": null,
   "id": "8295145e",
   "metadata": {},
   "outputs": [],
   "source": []
  }
 ],
 "metadata": {
  "kernelspec": {
   "display_name": "Python 3 (ipykernel)",
   "language": "python",
   "name": "python3"
  },
  "language_info": {
   "codemirror_mode": {
    "name": "ipython",
    "version": 3
   },
   "file_extension": ".py",
   "mimetype": "text/x-python",
   "name": "python",
   "nbconvert_exporter": "python",
   "pygments_lexer": "ipython3",
   "version": "3.11.0"
  }
 },
 "nbformat": 4,
 "nbformat_minor": 5
}
