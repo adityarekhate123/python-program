{
 "cells": [
  {
   "cell_type": "markdown",
   "id": "3e304604",
   "metadata": {},
   "source": [
    "## PYTHON BASICS PROGRAM"
   ]
  },
  {
   "cell_type": "markdown",
   "id": "3587bc6c",
   "metadata": {},
   "source": [
    "#### 1.Add Two Numbers in Python"
   ]
  },
  {
   "cell_type": "code",
   "execution_count": 2,
   "id": "248f5e23",
   "metadata": {},
   "outputs": [
    {
     "name": "stdout",
     "output_type": "stream",
     "text": [
      "enter a num1   5\n",
      "enter a num2  15\n",
      "The addition of num1 and num2 is 20\n"
     ]
    }
   ],
   "source": [
    "num1=int(input(\"enter a num1   \"))\n",
    "num2=int(input(\"enter a num2  \"))\n",
    "def addition(num1,num2):\n",
    "    return num1+num2\n",
    "f=addition(num1,num2)\n",
    "print(f\"The addition of num1 and num2 is {f}\")"
   ]
  },
  {
   "cell_type": "markdown",
   "id": "5473fbe2",
   "metadata": {},
   "source": [
    "#### 2.Subtract Two Numbers in Python"
   ]
  },
  {
   "cell_type": "code",
   "execution_count": 6,
   "id": "de5f6f3c",
   "metadata": {},
   "outputs": [
    {
     "name": "stdout",
     "output_type": "stream",
     "text": [
      "enter a num1   :5\n",
      "enter a num2  :6\n",
      "the answer is -1\n"
     ]
    }
   ],
   "source": [
    "num1=int(input(\"enter a num1   :\"))\n",
    "num2=int(input(\"enter a num2  :\"))\n",
    "def subtract(num1,num2):\n",
    "    return num1-num2\n",
    "f=subtract(num1,num2)\n",
    "print(f\"the answer is {f}\")"
   ]
  },
  {
   "cell_type": "markdown",
   "id": "bb3a1e86",
   "metadata": {},
   "source": [
    "3.multiply two number "
   ]
  },
  {
   "cell_type": "code",
   "execution_count": 8,
   "id": "3024fef4",
   "metadata": {},
   "outputs": [
    {
     "name": "stdout",
     "output_type": "stream",
     "text": [
      "enter num1  :6\n",
      "enter num2  :5\n",
      "the answer is 30\n"
     ]
    }
   ],
   "source": [
    "num1=int(input(\"enter num1  :\"))\n",
    "num2=int(input(\"enter num2  :\"))\n",
    "def multiply(num1,num2):\n",
    "    return num1*num2\n",
    "f=multiply(num1,num2)\n",
    "print(f\"the answer is {f}\")"
   ]
  },
  {
   "cell_type": "markdown",
   "id": "81d65516",
   "metadata": {},
   "source": [
    "4.divide two number"
   ]
  },
  {
   "cell_type": "code",
   "execution_count": 9,
   "id": "fbf21296",
   "metadata": {},
   "outputs": [
    {
     "name": "stdout",
     "output_type": "stream",
     "text": [
      "enter a num1 :5\n",
      "enter a num2  :2\n",
      "the answer is 2.5\n"
     ]
    }
   ],
   "source": [
    "num1=int(input(\"enter a num1 :\"))\n",
    "num2=int(input(\"enter a num2  :\"))\n",
    "def divide(num1,num2):\n",
    "    return num1/num2\n",
    "f=divide(num1,num2)\n",
    "print(f\"the answer is {f}\")"
   ]
  },
  {
   "cell_type": "markdown",
   "id": "9bc9f90e",
   "metadata": {},
   "source": [
    "5 .write python program for taking average of two number"
   ]
  },
  {
   "cell_type": "code",
   "execution_count": 17,
   "id": "035ad069",
   "metadata": {},
   "outputs": [
    {
     "name": "stdout",
     "output_type": "stream",
     "text": [
      "enter a num1  :25\n",
      "enter a num2  :65\n",
      "the answer is 45.0\n"
     ]
    }
   ],
   "source": [
    "num1=float(input(\"enter a num1  :\"))\n",
    "num2=float(input(\"enter a num2  :\"))\n",
    "def average(num1,num2):\n",
    "    return (num1+num2)/2\n",
    "f=average(num1,num2)\n",
    "print(f\"the answer is {f}\")"
   ]
  },
  {
   "cell_type": "markdown",
   "id": "cb21a618",
   "metadata": {},
   "source": [
    "6.Print the Square of a Number"
   ]
  },
  {
   "cell_type": "code",
   "execution_count": 20,
   "id": "2b826854",
   "metadata": {},
   "outputs": [
    {
     "name": "stdout",
     "output_type": "stream",
     "text": [
      "enter a num1  :25\n",
      "the square is 25.0 is 625.0\n"
     ]
    }
   ],
   "source": [
    "num1=float(int(input(\"enter a num1  :\")))\n",
    "def square(num1):\n",
    "    return num1**2\n",
    "f=square(num1)\n",
    "print(f\"the square is {num1} is {f}\")"
   ]
  },
  {
   "cell_type": "markdown",
   "id": "9ca9e348",
   "metadata": {},
   "source": [
    "7.python programe for cube of number"
   ]
  },
  {
   "cell_type": "code",
   "execution_count": 21,
   "id": "f4bcd526",
   "metadata": {},
   "outputs": [
    {
     "name": "stdout",
     "output_type": "stream",
     "text": [
      "enter a num1  :2\n",
      "the cube is  8\n"
     ]
    }
   ],
   "source": [
    "num1=int(input(\"enter a num1  :\"))\n",
    "def cube(num1):\n",
    "    return num1**3\n",
    "f=cube(num1)\n",
    "print(f\"the cube is  {f}\")"
   ]
  },
  {
   "cell_type": "markdown",
   "id": "37bf5046",
   "metadata": {},
   "source": [
    "8.write a python program for swap two number"
   ]
  },
  {
   "cell_type": "code",
   "execution_count": 32,
   "id": "c84e79ca",
   "metadata": {},
   "outputs": [
    {
     "name": "stdout",
     "output_type": "stream",
     "text": [
      "enter a num a=5\n",
      "enter a num b=8\n",
      "the a and b before swapping is 5,8\n",
      "after swapping\n",
      "a=8\n",
      "b=5\n"
     ]
    }
   ],
   "source": [
    "a=int(input(\"enter a num a=\"))\n",
    "b=int(input(\"enter a num b=\"))\n",
    "print(f\"the a and b before swapping is {a},{b}\")\n",
    "a,b=b,a\n",
    "print(\"after swapping\")\n",
    "print(f\"a={a}\")\n",
    "print(f\"b={b}\")"
   ]
  },
  {
   "cell_type": "markdown",
   "id": "7a588f86",
   "metadata": {},
   "source": [
    "9.write a python programe for square root of number"
   ]
  },
  {
   "cell_type": "code",
   "execution_count": 39,
   "id": "04922edc",
   "metadata": {},
   "outputs": [
    {
     "data": {
      "text/plain": [
       "25.0"
      ]
     },
     "execution_count": 39,
     "metadata": {},
     "output_type": "execute_result"
    }
   ],
   "source": [
    "625**0.5"
   ]
  },
  {
   "cell_type": "code",
   "execution_count": 42,
   "id": "2f9a6972",
   "metadata": {},
   "outputs": [
    {
     "name": "stdout",
     "output_type": "stream",
     "text": [
      "enter a num16\n",
      "the sqrt is 4.0\n"
     ]
    }
   ],
   "source": [
    "num=float(input(\"enter a num\"))\n",
    "def sqrt(num):\n",
    "    return num**0.5\n",
    "f=sqrt(num)\n",
    "print(f\"the sqrt is {f}\")"
   ]
  },
  {
   "cell_type": "markdown",
   "id": "e94331af",
   "metadata": {},
   "source": [
    "10.python programe fro simple intrest"
   ]
  },
  {
   "cell_type": "code",
   "execution_count": null,
   "id": "1cf870fa",
   "metadata": {},
   "outputs": [],
   "source": [
    "Simple Interest = ( P x R x T ) / 100\n",
    "Where,\n",
    "P is the principal amount\n",
    "R is the rate of interest and\n",
    "T is the time (number of years)"
   ]
  },
  {
   "cell_type": "code",
   "execution_count": 44,
   "id": "679a2701",
   "metadata": {},
   "outputs": [
    {
     "name": "stdout",
     "output_type": "stream",
     "text": [
      "enter principle of amount  :15000\n",
      "enter rate of intrest  :3.5\n",
      "enter a time period5\n",
      "simple intrest is 2625.0\n"
     ]
    }
   ],
   "source": [
    "principle_ammount=float(input(\"enter principle of amount  :\"))\n",
    "rate_of_intrest=float(input(\"enter rate of intrest  :\"))\n",
    "time=float(input(\"enter a time period\"))                                   #my fave code\n",
    "def simpleintrest(principle_ammount,rate_of_intrest,time):\n",
    "    return (principle_ammount*rate_of_intrest*time)/100\n",
    "v=simpleintrest(principle_ammount,rate_of_intrest,time)\n",
    "print(f\"simple intrest is {v}\")\n"
   ]
  },
  {
   "cell_type": "code",
   "execution_count": null,
   "id": "ded8c0a2",
   "metadata": {},
   "outputs": [],
   "source": []
  },
  {
   "cell_type": "code",
   "execution_count": null,
   "id": "9a75ddf1",
   "metadata": {},
   "outputs": [],
   "source": []
  }
 ],
 "metadata": {
  "kernelspec": {
   "display_name": "Python 3 (ipykernel)",
   "language": "python",
   "name": "python3"
  },
  "language_info": {
   "codemirror_mode": {
    "name": "ipython",
    "version": 3
   },
   "file_extension": ".py",
   "mimetype": "text/x-python",
   "name": "python",
   "nbconvert_exporter": "python",
   "pygments_lexer": "ipython3",
   "version": "3.11.0"
  }
 },
 "nbformat": 4,
 "nbformat_minor": 5
}
