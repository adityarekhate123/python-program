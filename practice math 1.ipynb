{
 "cells": [
  {
   "cell_type": "code",
   "execution_count": 1,
   "id": "0624f98d",
   "metadata": {},
   "outputs": [],
   "source": [
    "import math"
   ]
  },
  {
   "cell_type": "code",
   "execution_count": 9,
   "id": "945b503e",
   "metadata": {},
   "outputs": [
    {
     "data": {
      "text/plain": [
       "25.0"
      ]
     },
     "execution_count": 9,
     "metadata": {},
     "output_type": "execute_result"
    }
   ],
   "source": [
    "math.sqrt(625)"
   ]
  },
  {
   "cell_type": "markdown",
   "id": "e0c28d66",
   "metadata": {},
   "source": [
    "1.write python programe to give square root of any number"
   ]
  },
  {
   "cell_type": "code",
   "execution_count": 10,
   "id": "3e758636",
   "metadata": {},
   "outputs": [
    {
     "name": "stdout",
     "output_type": "stream",
     "text": [
      "enter a number625\n",
      "the squre root of 625 is 25.0\n"
     ]
    }
   ],
   "source": [
    "number=int(input(\"enter a number\")) \n",
    "def sqrt(number):\n",
    "    return math.sqrt(number)\n",
    "f=sqrt(number)\n",
    "print(f\"the squre root of {number} is {f}\")"
   ]
  },
  {
   "cell_type": "markdown",
   "id": "718cec50",
   "metadata": {},
   "source": [
    "2.write python program to give factorial of any number"
   ]
  },
  {
   "cell_type": "code",
   "execution_count": 11,
   "id": "d0e02b75",
   "metadata": {},
   "outputs": [
    {
     "name": "stdout",
     "output_type": "stream",
     "text": [
      "enter a number5\n",
      "the factorial of 5 is 120\n"
     ]
    }
   ],
   "source": [
    "number=int(input(\"enter a number\"))\n",
    "def factorial(number):\n",
    "    return math.factorial(number)\n",
    "f=factorial(number)\n",
    "print(f\"the factorial of {number} is {f}\")"
   ]
  },
  {
   "cell_type": "markdown",
   "id": "b3ea319b",
   "metadata": {},
   "source": [
    "3.write a python program to round the decimal number"
   ]
  },
  {
   "cell_type": "code",
   "execution_count": 12,
   "id": "3a8387a4",
   "metadata": {},
   "outputs": [
    {
     "name": "stdout",
     "output_type": "stream",
     "text": [
      "enter a number5\n",
      "5\n"
     ]
    }
   ],
   "source": [
    "num=float(input(\"enter a number\"))\n",
    "def round(num):\n",
    "    return math.ceil(num)\n",
    "f=round(num)\n",
    "print(f)"
   ]
  },
  {
   "cell_type": "markdown",
   "id": "cc9983f5",
   "metadata": {},
   "source": [
    "4.write a python program to dist between two list"
   ]
  },
  {
   "cell_type": "code",
   "execution_count": 13,
   "id": "6ddd5885",
   "metadata": {},
   "outputs": [
    {
     "name": "stdout",
     "output_type": "stream",
     "text": [
      "74.51845409024533\n"
     ]
    }
   ],
   "source": [
    "list1=[25,63,52]\n",
    "list2=[25,6,4]\n",
    "def distance(list1,list2):\n",
    "    return math.dist(list1,list2)\n",
    "f=distance(list1,list2)\n",
    "print(f)"
   ]
  },
  {
   "cell_type": "markdown",
   "id": "2768cb47",
   "metadata": {},
   "source": [
    "5.write a python programe to round down number to the nearest integer"
   ]
  },
  {
   "cell_type": "code",
   "execution_count": 25,
   "id": "92b144c1",
   "metadata": {},
   "outputs": [
    {
     "name": "stdout",
     "output_type": "stream",
     "text": [
      "enter a number5.9\n",
      "5\n"
     ]
    }
   ],
   "source": [
    "num=float(input(\"enter a number\"))\n",
    "def roundtoN(num):\n",
    "    return math.floor(num)\n",
    "f=roundtoN(num)\n",
    "print(f)\n",
    "          "
   ]
  },
  {
   "cell_type": "markdown",
   "id": "31d97f8a",
   "metadata": {},
   "source": [
    "6.write a python programe to give a remainder of two number"
   ]
  },
  {
   "cell_type": "code",
   "execution_count": 29,
   "id": "f1231049",
   "metadata": {},
   "outputs": [
    {
     "name": "stdout",
     "output_type": "stream",
     "text": [
      "enter a number25\n",
      "enter a number3\n",
      "the remainder is 1.0\n"
     ]
    }
   ],
   "source": [
    "num1=int(input(\"enter a number\"))\n",
    "num2=int(input(\"enter a number\"))\n",
    "def remainder(num1,num2):\n",
    "    return math.fmod(num1,num2)\n",
    "f=remainder(num1,num2)\n",
    "print(f\"the remainder is {f}\")"
   ]
  },
  {
   "cell_type": "markdown",
   "id": "8b77db66",
   "metadata": {},
   "source": [
    "7.write the python program to give sum of  list"
   ]
  },
  {
   "cell_type": "code",
   "execution_count": 44,
   "id": "a3322464",
   "metadata": {},
   "outputs": [
    {
     "name": "stdout",
     "output_type": "stream",
     "text": [
      "92.0\n"
     ]
    }
   ],
   "source": [
    "list1=[25,62,5]\n",
    "def sumoflist(list1):\n",
    "    return math.fsum(list1)\n",
    "f=sumoflist(list1)\n",
    "print(f)"
   ]
  },
  {
   "cell_type": "markdown",
   "id": "f8493190",
   "metadata": {},
   "source": [
    "8.write a python programe to concatnate two list in one list"
   ]
  },
  {
   "cell_type": "code",
   "execution_count": 45,
   "id": "5384d380",
   "metadata": {},
   "outputs": [
    {
     "data": {
      "text/plain": [
       "[25, 62, 5]"
      ]
     },
     "execution_count": 45,
     "metadata": {},
     "output_type": "execute_result"
    }
   ],
   "source": [
    "list1"
   ]
  },
  {
   "cell_type": "code",
   "execution_count": 47,
   "id": "c3c74b76",
   "metadata": {},
   "outputs": [],
   "source": [
    "list2=[25,32,5]"
   ]
  },
  {
   "cell_type": "code",
   "execution_count": 50,
   "id": "f0bfa96a",
   "metadata": {},
   "outputs": [
    {
     "data": {
      "text/plain": [
       "[25, 62, 5, 25, 32, 5]"
      ]
     },
     "execution_count": 50,
     "metadata": {},
     "output_type": "execute_result"
    }
   ],
   "source": [
    "list3=list1+list2\n",
    "list3"
   ]
  },
  {
   "cell_type": "markdown",
   "id": "28d7498d",
   "metadata": {},
   "source": [
    "9.write a python programe for sum of the list"
   ]
  },
  {
   "cell_type": "code",
   "execution_count": 55,
   "id": "715570cd",
   "metadata": {},
   "outputs": [],
   "source": [
    "list1=[56,85,64,6]\n"
   ]
  },
  {
   "cell_type": "code",
   "execution_count": 56,
   "id": "686a5fe2",
   "metadata": {},
   "outputs": [],
   "source": [
    "list2=[65,35,64,56]"
   ]
  },
  {
   "cell_type": "code",
   "execution_count": 57,
   "id": "f21439de",
   "metadata": {},
   "outputs": [],
   "source": [
    "#first concatenate them \n",
    "list3=list1+list2"
   ]
  },
  {
   "cell_type": "code",
   "execution_count": 58,
   "id": "b253bb04",
   "metadata": {},
   "outputs": [
    {
     "data": {
      "text/plain": [
       "431.0"
      ]
     },
     "execution_count": 58,
     "metadata": {},
     "output_type": "execute_result"
    }
   ],
   "source": [
    "math.fsum(list3)"
   ]
  },
  {
   "cell_type": "markdown",
   "id": "76c6ed17",
   "metadata": {},
   "source": [
    "10.write a python programe fro gcd(grestest common divisior)"
   ]
  },
  {
   "cell_type": "code",
   "execution_count": 69,
   "id": "ce4c4cab",
   "metadata": {},
   "outputs": [
    {
     "name": "stdout",
     "output_type": "stream",
     "text": [
      "enter a number3\n",
      "enter a number6\n",
      "the gcd of (3, 6)is 3\n"
     ]
    }
   ],
   "source": [
    "number=int(input(\"enter a number\"))\n",
    "number2=int(input(\"enter a number\"))\n",
    "def gcd(number,number2):\n",
    "    return math.gcd(number,number2)\n",
    "f=gcd(number,number2)\n",
    "print(f\"the gcd of {number,number2}is {f}\")"
   ]
  },
  {
   "cell_type": "code",
   "execution_count": 67,
   "id": "cd9049a0",
   "metadata": {},
   "outputs": [
    {
     "data": {
      "text/plain": [
       "3"
      ]
     },
     "execution_count": 67,
     "metadata": {},
     "output_type": "execute_result"
    }
   ],
   "source": [
    "math.gcd(3,6)"
   ]
  },
  {
   "cell_type": "code",
   "execution_count": null,
   "id": "f8144d7b",
   "metadata": {},
   "outputs": [],
   "source": []
  },
  {
   "cell_type": "code",
   "execution_count": null,
   "id": "be17116d",
   "metadata": {},
   "outputs": [],
   "source": []
  },
  {
   "cell_type": "code",
   "execution_count": null,
   "id": "fd96d61c",
   "metadata": {},
   "outputs": [],
   "source": []
  }
 ],
 "metadata": {
  "kernelspec": {
   "display_name": "Python 3 (ipykernel)",
   "language": "python",
   "name": "python3"
  },
  "language_info": {
   "codemirror_mode": {
    "name": "ipython",
    "version": 3
   },
   "file_extension": ".py",
   "mimetype": "text/x-python",
   "name": "python",
   "nbconvert_exporter": "python",
   "pygments_lexer": "ipython3",
   "version": "3.11.0"
  }
 },
 "nbformat": 4,
 "nbformat_minor": 5
}
