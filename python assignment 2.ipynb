{
 "cells": [
  {
   "cell_type": "markdown",
   "id": "9449a1aa",
   "metadata": {},
   "source": [
    "1.Write a Python program to convert Kilometers to Miles ?"
   ]
  },
  {
   "cell_type": "code",
   "execution_count": 40,
   "id": "a8f8f409",
   "metadata": {},
   "outputs": [],
   "source": [
    "def kmtomiles(a):\n",
    "    kmtomiles=a*0.621371\n",
    "    print(a,\"km is eqval to miles\")     #1 way\n",
    "    print(kmtomiles)"
   ]
  },
  {
   "cell_type": "code",
   "execution_count": 43,
   "id": "cdc3b157",
   "metadata": {},
   "outputs": [
    {
     "name": "stdout",
     "output_type": "stream",
     "text": [
      "55 km is eqval to miles\n",
      "34.175405\n"
     ]
    }
   ],
   "source": [
    "#driver code\n",
    "kmtomiles(55) "
   ]
  },
  {
   "cell_type": "code",
   "execution_count": null,
   "id": "d8999fb2",
   "metadata": {},
   "outputs": [],
   "source": [
    "---or"
   ]
  },
  {
   "cell_type": "code",
   "execution_count": 2,
   "id": "827a78df",
   "metadata": {},
   "outputs": [
    {
     "name": "stdout",
     "output_type": "stream",
     "text": [
      "Enter no of kilometers : 5\n"
     ]
    }
   ],
   "source": [
    "def kmToMiles():\n",
    "    kiloMeters = float(input(\"Enter no of kilometers : \"))\n",
    "    print(\"{} km is Equal to {} miles\".format(kiloMeters,kiloMeters*0.621))    #2 way\n",
    "\n",
    "kmToMiles()"
   ]
  },
  {
   "cell_type": "markdown",
   "id": "3578c8aa",
   "metadata": {},
   "source": [
    "2.Write a Python program to convert Celsius to Farenheit ?"
   ]
  },
  {
   "cell_type": "code",
   "execution_count": 3,
   "id": "37d206f4",
   "metadata": {},
   "outputs": [],
   "source": [
    "def celsiustofahrenheit(a):\n",
    "    celsiustofahrenheit=a*1.8+32\n",
    "    print(celsiustofahrenheit)\n",
    "    "
   ]
  },
  {
   "cell_type": "code",
   "execution_count": 5,
   "id": "4dba3a79",
   "metadata": {},
   "outputs": [
    {
     "name": "stdout",
     "output_type": "stream",
     "text": [
      "212.0\n"
     ]
    }
   ],
   "source": [
    "#driver code\n",
    "celsiustofahrenheit(100)"
   ]
  },
  {
   "cell_type": "markdown",
   "id": "1f8ac278",
   "metadata": {},
   "source": [
    "3.Write a Python program to display calender ?\n"
   ]
  },
  {
   "cell_type": "code",
   "execution_count": 7,
   "id": "33568b9b",
   "metadata": {},
   "outputs": [
    {
     "name": "stdout",
     "output_type": "stream",
     "text": [
      "Enter calender year: 2023\n",
      "                                  2023\n",
      "\n",
      "      January                   February                   March\n",
      "Mo Tu We Th Fr Sa Su      Mo Tu We Th Fr Sa Su      Mo Tu We Th Fr Sa Su\n",
      "                   1             1  2  3  4  5             1  2  3  4  5\n",
      " 2  3  4  5  6  7  8       6  7  8  9 10 11 12       6  7  8  9 10 11 12\n",
      " 9 10 11 12 13 14 15      13 14 15 16 17 18 19      13 14 15 16 17 18 19\n",
      "16 17 18 19 20 21 22      20 21 22 23 24 25 26      20 21 22 23 24 25 26\n",
      "23 24 25 26 27 28 29      27 28                     27 28 29 30 31\n",
      "30 31\n",
      "\n",
      "       April                      May                       June\n",
      "Mo Tu We Th Fr Sa Su      Mo Tu We Th Fr Sa Su      Mo Tu We Th Fr Sa Su\n",
      "                1  2       1  2  3  4  5  6  7                1  2  3  4\n",
      " 3  4  5  6  7  8  9       8  9 10 11 12 13 14       5  6  7  8  9 10 11\n",
      "10 11 12 13 14 15 16      15 16 17 18 19 20 21      12 13 14 15 16 17 18\n",
      "17 18 19 20 21 22 23      22 23 24 25 26 27 28      19 20 21 22 23 24 25\n",
      "24 25 26 27 28 29 30      29 30 31                  26 27 28 29 30\n",
      "\n",
      "        July                     August                  September\n",
      "Mo Tu We Th Fr Sa Su      Mo Tu We Th Fr Sa Su      Mo Tu We Th Fr Sa Su\n",
      "                1  2          1  2  3  4  5  6                   1  2  3\n",
      " 3  4  5  6  7  8  9       7  8  9 10 11 12 13       4  5  6  7  8  9 10\n",
      "10 11 12 13 14 15 16      14 15 16 17 18 19 20      11 12 13 14 15 16 17\n",
      "17 18 19 20 21 22 23      21 22 23 24 25 26 27      18 19 20 21 22 23 24\n",
      "24 25 26 27 28 29 30      28 29 30 31               25 26 27 28 29 30\n",
      "31\n",
      "\n",
      "      October                   November                  December\n",
      "Mo Tu We Th Fr Sa Su      Mo Tu We Th Fr Sa Su      Mo Tu We Th Fr Sa Su\n",
      "                   1             1  2  3  4  5                   1  2  3\n",
      " 2  3  4  5  6  7  8       6  7  8  9 10 11 12       4  5  6  7  8  9 10\n",
      " 9 10 11 12 13 14 15      13 14 15 16 17 18 19      11 12 13 14 15 16 17\n",
      "16 17 18 19 20 21 22      20 21 22 23 24 25 26      18 19 20 21 22 23 24\n",
      "23 24 25 26 27 28 29      27 28 29 30               25 26 27 28 29 30 31\n",
      "30 31\n",
      "\n"
     ]
    }
   ],
   "source": [
    "import calendar\n",
    "\n",
    "def showCalender():\n",
    "    year = int(input(\"Enter calender year: \"))\n",
    "    print(calendar.calendar(year))\n",
    "    \n",
    "showCalender()"
   ]
  },
  {
   "cell_type": "markdown",
   "id": "31cbb174",
   "metadata": {},
   "source": [
    "4.Write a Python program to solve quadartic equation ?"
   ]
  },
  {
   "cell_type": "code",
   "execution_count": 2,
   "id": "5d1c919e",
   "metadata": {},
   "outputs": [
    {
     "name": "stdout",
     "output_type": "stream",
     "text": [
      "Enter a value 1\n",
      "Enter b value 2\n",
      "Enter c value 3\n",
      "Roots are imaginary (-1-1.4142135623730951j) (-1+1.4142135623730951j)\n"
     ]
    }
   ],
   "source": [
    "#import compelx math module\n",
    "import cmath\n",
    "import math\n",
    "\n",
    "def quadarticEquationRoots(a,b,c):\n",
    "    discriminant=b**2-4*a*c\n",
    "    \n",
    "    if discriminant==0:\n",
    "        r1=print(-b/2*a) \n",
    "        r2=print(-b/2*a)\n",
    "        print(\"Real and same roots\",r1,r2)\n",
    "    elif discriminant>0:\n",
    "        r1 = (-b-math.sqrt(discriminant))/(2*a)  #-math\n",
    "        r2 = (-b+math.sqrt(discriminant))/(2*a)   #+math\n",
    "        print(\"Roots are real and different\",r1,r2)\n",
    "    else:\n",
    "        r1=(-b-cmath.sqrt(discriminant))/(2*a)    #-cmath\n",
    "        r2=(-b+cmath.sqrt(discriminant))/(2*a)     #+cmath\n",
    "        print(\"Roots are imaginary\",r1,r2)\n",
    "a=int(input(\"Enter a value \"))\n",
    "b=int(input(\"Enter b value \"))\n",
    "c=int(input(\"Enter c value \"))\n",
    "\n",
    "quadarticEquationRoots(a,b,c)"
   ]
  },
  {
   "cell_type": "code",
   "execution_count": 1,
   "id": "d1a3bdcd",
   "metadata": {},
   "outputs": [
    {
     "name": "stdout",
     "output_type": "stream",
     "text": [
      "a=1\n",
      "b=2\n",
      "c=3\n",
      "roots are imaginary (-1-1.4142135623730951j) (-1+1.4142135623730951j)\n"
     ]
    }
   ],
   "source": [
    "#practice\n",
    "\n",
    "\n",
    "import math\n",
    "import cmath\n",
    "\n",
    "\n",
    "\n",
    "def qtr(a,b,c):\n",
    "    dis=b**2-4*a*c\n",
    "    if dis==0:\n",
    "        r1=-b/2*a\n",
    "        r2=-b/2*a\n",
    "        print(\"real and same root\",r1,r2)\n",
    "    elif dis>0:\n",
    "        r1=(-b-math.sqrt(dis))/2*a\n",
    "        r2=(-b+math.sqrt(dis))/2*a\n",
    "        print(\"root are real and different\",r1,r2)\n",
    "    else:\n",
    "        r1=(-b-cmath.sqrt(dis))/2*a\n",
    "        r2=(-b+cmath.sqrt(dis))/2*a\n",
    "        print(\"roots are imaginary\",r1,r2)\n",
    "a=int(input(\"a=\"))\n",
    "b=int(input(\"b=\"))\n",
    "c=int(input(\"c=\"))\n",
    "\n",
    "\n",
    "qtr(a,b,c)"
   ]
  },
  {
   "cell_type": "markdown",
   "id": "5636995e",
   "metadata": {},
   "source": [
    "5.Write a Python program to swap two variables without temp variable ?"
   ]
  },
  {
   "cell_type": "code",
   "execution_count": 6,
   "id": "32caba27",
   "metadata": {},
   "outputs": [
    {
     "name": "stdout",
     "output_type": "stream",
     "text": [
      "before swap\n",
      "a= 5\n",
      "b= 10\n",
      "after swap \n",
      "a= 10\n",
      "b= 5\n"
     ]
    }
   ],
   "source": [
    "a=5\n",
    "b=10\n",
    "print(\"before swap\")\n",
    "print(\"a=\",a)\n",
    "print(\"b=\",b)\n",
    "a,b=b,a\n",
    "print(\"after swap \")\n",
    "print(\"a=\",a)\n",
    "print(\"b=\",b)"
   ]
  }
 ],
 "metadata": {
  "kernelspec": {
   "display_name": "Python 3 (ipykernel)",
   "language": "python",
   "name": "python3"
  },
  "language_info": {
   "codemirror_mode": {
    "name": "ipython",
    "version": 3
   },
   "file_extension": ".py",
   "mimetype": "text/x-python",
   "name": "python",
   "nbconvert_exporter": "python",
   "pygments_lexer": "ipython3",
   "version": "3.11.0"
  }
 },
 "nbformat": 4,
 "nbformat_minor": 5
}
