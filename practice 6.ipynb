{
 "cells": [
  {
   "cell_type": "markdown",
   "id": "c922296b",
   "metadata": {},
   "source": [
    "1.write python programe to count the vowel in string"
   ]
  },
  {
   "cell_type": "code",
   "execution_count": 22,
   "id": "3cf94c9c",
   "metadata": {},
   "outputs": [
    {
     "name": "stdout",
     "output_type": "stream",
     "text": [
      "{'a': 5, 'e': 3, 'i': 1, 'o': 3, 'u': 0}\n"
     ]
    }
   ],
   "source": [
    "a=\"Harry Potter And the Prisoner Of Azkaban\"\n",
    "vowels=\"aeiou\"\n",
    "a=a.casefold()   #casefold --convert all capital letter to small letter\n",
    "count={}.fromkeys(vowels,0)\n",
    "for char in a:\n",
    "    if char in count:\n",
    "        count[char]+=1\n",
    "print(count)"
   ]
  },
  {
   "cell_type": "code",
   "execution_count": 14,
   "id": "e5b2a150",
   "metadata": {},
   "outputs": [],
   "source": [
    "vowels=\"aeiou\""
   ]
  },
  {
   "cell_type": "code",
   "execution_count": 75,
   "id": "ac32e436",
   "metadata": {},
   "outputs": [
    {
     "data": {
      "text/plain": [
       "{'a': 0, 'e': 0, 'i': 0, 'o': 0, 'u': 0}"
      ]
     },
     "execution_count": 75,
     "metadata": {},
     "output_type": "execute_result"
    }
   ],
   "source": [
    "count"
   ]
  },
  {
   "cell_type": "code",
   "execution_count": null,
   "id": "d76fb2b1",
   "metadata": {},
   "outputs": [],
   "source": []
  },
  {
   "cell_type": "code",
   "execution_count": 15,
   "id": "289c4b91",
   "metadata": {},
   "outputs": [],
   "source": [
    "a=a.casefold()   #casefold --convert all capital letter to small letter"
   ]
  },
  {
   "cell_type": "code",
   "execution_count": 16,
   "id": "b6a473db",
   "metadata": {},
   "outputs": [
    {
     "data": {
      "text/plain": [
       "'harry potter and the prisoner of azkaban'"
      ]
     },
     "execution_count": 16,
     "metadata": {},
     "output_type": "execute_result"
    }
   ],
   "source": [
    "a"
   ]
  },
  {
   "cell_type": "code",
   "execution_count": 25,
   "id": "3b5c80ea",
   "metadata": {},
   "outputs": [],
   "source": [
    "count={}.fromkeys(vowels,0)"
   ]
  },
  {
   "cell_type": "code",
   "execution_count": 26,
   "id": "3d2f1a2a",
   "metadata": {},
   "outputs": [
    {
     "data": {
      "text/plain": [
       "{'a': 0, 'e': 0, 'i': 0, 'o': 0, 'u': 0}"
      ]
     },
     "execution_count": 26,
     "metadata": {},
     "output_type": "execute_result"
    }
   ],
   "source": [
    "count "
   ]
  },
  {
   "cell_type": "code",
   "execution_count": 20,
   "id": "69943c8e",
   "metadata": {},
   "outputs": [],
   "source": [
    "for char in a:\n",
    "    if char in count:\n",
    "        count[char]+=1"
   ]
  },
  {
   "cell_type": "code",
   "execution_count": 21,
   "id": "83082371",
   "metadata": {},
   "outputs": [
    {
     "name": "stdout",
     "output_type": "stream",
     "text": [
      "{'a': 5, 'e': 3, 'i': 1, 'o': 3, 'u': 0}\n"
     ]
    }
   ],
   "source": [
    "print(count)"
   ]
  },
  {
   "cell_type": "code",
   "execution_count": 31,
   "id": "bb9bae52",
   "metadata": {},
   "outputs": [
    {
     "name": "stdout",
     "output_type": "stream",
     "text": [
      "{'a': 3, 'e': 2, 'i': 1, 'o': 0, 'u': 0}\n"
     ]
    }
   ],
   "source": [
    "a=\"aditya REkhate\"\n",
    "vowels=\"aeiou\"\n",
    "a=a.casefold()\n",
    "count={}.fromkeys(vowels,0)\n",
    "for i in a:\n",
    "    if i in count:\n",
    "        count[i]+=1\n",
    "        \n",
    "print(count)"
   ]
  },
  {
   "cell_type": "markdown",
   "id": "ab9186a4",
   "metadata": {},
   "source": [
    "2.write a python programme to merge  two dictionaries"
   ]
  },
  {
   "cell_type": "code",
   "execution_count": 32,
   "id": "773d2ebb",
   "metadata": {},
   "outputs": [
    {
     "name": "stdout",
     "output_type": "stream",
     "text": [
      "{'adity': 5, 'niku': 6, 'rohit': 7, 'vikas': 5, 'vishal': 9}\n"
     ]
    }
   ],
   "source": [
    "dict1={\"adity\":5,\"niku\":6,\"rohit\":8}\n",
    "dict2={\"vikas\":5,\"vishal\":9,\"rohit\":7}\n",
    "print(dict1|dict2)#union from both list"
   ]
  },
  {
   "cell_type": "markdown",
   "id": "30211330",
   "metadata": {},
   "source": [
    "3.write a python program to acess index of list"
   ]
  },
  {
   "cell_type": "code",
   "execution_count": 37,
   "id": "d329e1e6",
   "metadata": {},
   "outputs": [
    {
     "name": "stdout",
     "output_type": "stream",
     "text": [
      "0 aditya\n",
      "1 rohit\n",
      "2 vikas\n",
      "3 vishal\n",
      "4 raj\n"
     ]
    }
   ],
   "source": [
    "list=[\"aditya\",\"rohit\",\"vikas\",\"vishal\",\"raj\"]\n",
    "for index,value in enumerate(list):\n",
    "    print(index,value)"
   ]
  },
  {
   "cell_type": "code",
   "execution_count": 38,
   "id": "3d1f4255",
   "metadata": {},
   "outputs": [
    {
     "name": "stdout",
     "output_type": "stream",
     "text": [
      "1 - aditya\n",
      "2 - rohit\n",
      "3 - vikas\n",
      "4 - vishal\n",
      "5 - raj\n"
     ]
    }
   ],
   "source": [
    "#modified\n",
    "list=[\"aditya\",\"rohit\",\"vikas\",\"vishal\",\"raj\"]\n",
    "for index,value in enumerate(list,start=1):\n",
    "    print(index,\"-\",value)"
   ]
  },
  {
   "cell_type": "markdown",
   "id": "976b2bba",
   "metadata": {},
   "source": [
    "4.write a python programme to slice a list"
   ]
  },
  {
   "cell_type": "code",
   "execution_count": 41,
   "id": "ec92b167",
   "metadata": {},
   "outputs": [],
   "source": [
    "list=[\"aditya\",\"rohit\",\"vikas\",\"vishal\",\"raj\"]"
   ]
  },
  {
   "cell_type": "code",
   "execution_count": null,
   "id": "71b1fd8c",
   "metadata": {},
   "outputs": [],
   "source": [
    "#positive indexing"
   ]
  },
  {
   "cell_type": "code",
   "execution_count": 42,
   "id": "0fdde33b",
   "metadata": {},
   "outputs": [
    {
     "data": {
      "text/plain": [
       "['vikas']"
      ]
     },
     "execution_count": 42,
     "metadata": {},
     "output_type": "execute_result"
    }
   ],
   "source": [
    "list[2:3]"
   ]
  },
  {
   "cell_type": "code",
   "execution_count": 43,
   "id": "58a47e50",
   "metadata": {},
   "outputs": [
    {
     "data": {
      "text/plain": [
       "['rohit', 'vikas', 'vishal']"
      ]
     },
     "execution_count": 43,
     "metadata": {},
     "output_type": "execute_result"
    }
   ],
   "source": [
    "list[1:4]"
   ]
  },
  {
   "cell_type": "code",
   "execution_count": 44,
   "id": "3082f461",
   "metadata": {},
   "outputs": [
    {
     "data": {
      "text/plain": [
       "['aditya', 'rohit']"
      ]
     },
     "execution_count": 44,
     "metadata": {},
     "output_type": "execute_result"
    }
   ],
   "source": [
    "list[0:2]"
   ]
  },
  {
   "cell_type": "code",
   "execution_count": null,
   "id": "4ed115fc",
   "metadata": {},
   "outputs": [],
   "source": [
    "#nigative indexing"
   ]
  },
  {
   "cell_type": "code",
   "execution_count": 45,
   "id": "14fe441b",
   "metadata": {},
   "outputs": [
    {
     "data": {
      "text/plain": [
       "'raj'"
      ]
     },
     "execution_count": 45,
     "metadata": {},
     "output_type": "execute_result"
    }
   ],
   "source": [
    "list[-1]"
   ]
  },
  {
   "cell_type": "code",
   "execution_count": 46,
   "id": "3a991562",
   "metadata": {},
   "outputs": [
    {
     "data": {
      "text/plain": [
       "['aditya', 'rohit', 'vikas', 'vishal', 'raj']"
      ]
     },
     "execution_count": 46,
     "metadata": {},
     "output_type": "execute_result"
    }
   ],
   "source": [
    "list"
   ]
  },
  {
   "cell_type": "code",
   "execution_count": 50,
   "id": "069bfdc5",
   "metadata": {},
   "outputs": [
    {
     "data": {
      "text/plain": [
       "['raj']"
      ]
     },
     "execution_count": 50,
     "metadata": {},
     "output_type": "execute_result"
    }
   ],
   "source": [
    "list[-1:]"
   ]
  },
  {
   "cell_type": "code",
   "execution_count": 51,
   "id": "a1fc9833",
   "metadata": {},
   "outputs": [
    {
     "data": {
      "text/plain": [
       "'vishal'"
      ]
     },
     "execution_count": 51,
     "metadata": {},
     "output_type": "execute_result"
    }
   ],
   "source": [
    "list[-2]"
   ]
  },
  {
   "cell_type": "code",
   "execution_count": 53,
   "id": "6a7c9974",
   "metadata": {},
   "outputs": [
    {
     "data": {
      "text/plain": [
       "[]"
      ]
     },
     "execution_count": 53,
     "metadata": {},
     "output_type": "execute_result"
    }
   ],
   "source": [
    "list[-2:3:2]"
   ]
  },
  {
   "cell_type": "code",
   "execution_count": 54,
   "id": "fb174c83",
   "metadata": {},
   "outputs": [
    {
     "data": {
      "text/plain": [
       "['aditya', 'rohit', 'vikas', 'vishal', 'raj']"
      ]
     },
     "execution_count": 54,
     "metadata": {},
     "output_type": "execute_result"
    }
   ],
   "source": [
    "list[::]   #full list"
   ]
  },
  {
   "cell_type": "code",
   "execution_count": 56,
   "id": "62c91859",
   "metadata": {},
   "outputs": [
    {
     "data": {
      "text/plain": [
       "['aditya', 'vikas', 'raj']"
      ]
     },
     "execution_count": 56,
     "metadata": {},
     "output_type": "execute_result"
    }
   ],
   "source": [
    "list[::2]   #step of 2"
   ]
  },
  {
   "cell_type": "code",
   "execution_count": 57,
   "id": "6622b874",
   "metadata": {},
   "outputs": [
    {
     "data": {
      "text/plain": [
       "['rohit', 'vishal']"
      ]
     },
     "execution_count": 57,
     "metadata": {},
     "output_type": "execute_result"
    }
   ],
   "source": [
    "list[1:4:2]  #start from 1 index stop at 4 index and taking step in this of 2"
   ]
  },
  {
   "cell_type": "code",
   "execution_count": 58,
   "id": "39248134",
   "metadata": {},
   "outputs": [
    {
     "data": {
      "text/plain": [
       "['aditya', 'rohit', 'vikas', 'vishal', 'raj']"
      ]
     },
     "execution_count": 58,
     "metadata": {},
     "output_type": "execute_result"
    }
   ],
   "source": [
    "list[:]  #full list"
   ]
  },
  {
   "cell_type": "code",
   "execution_count": 63,
   "id": "6fe3055e",
   "metadata": {},
   "outputs": [
    {
     "data": {
      "text/plain": [
       "['rohit', 'vikas', 'vishal']"
      ]
     },
     "execution_count": 63,
     "metadata": {},
     "output_type": "execute_result"
    }
   ],
   "source": [
    "list[1:4]"
   ]
  },
  {
   "cell_type": "code",
   "execution_count": 64,
   "id": "f338e299",
   "metadata": {},
   "outputs": [
    {
     "data": {
      "text/plain": [
       "['aditya', 'rohit', 'vikas', 'vishal', 'raj']"
      ]
     },
     "execution_count": 64,
     "metadata": {},
     "output_type": "execute_result"
    }
   ],
   "source": [
    "list[::]#full list"
   ]
  },
  {
   "cell_type": "code",
   "execution_count": 65,
   "id": "09736de5",
   "metadata": {},
   "outputs": [
    {
     "data": {
      "text/plain": [
       "['aditya', 'rohit', 'vikas']"
      ]
     },
     "execution_count": 65,
     "metadata": {},
     "output_type": "execute_result"
    }
   ],
   "source": [
    "list[:3]#start from 0 end at 2"
   ]
  },
  {
   "cell_type": "code",
   "execution_count": 66,
   "id": "9b5288c4",
   "metadata": {},
   "outputs": [
    {
     "data": {
      "text/plain": [
       "['vikas', 'vishal', 'raj']"
      ]
     },
     "execution_count": 66,
     "metadata": {},
     "output_type": "execute_result"
    }
   ],
   "source": [
    "list[2:]#start from 2 end at last"
   ]
  },
  {
   "cell_type": "code",
   "execution_count": 67,
   "id": "8a43d3db",
   "metadata": {},
   "outputs": [
    {
     "data": {
      "text/plain": [
       "['aditya', 'vikas', 'raj']"
      ]
     },
     "execution_count": 67,
     "metadata": {},
     "output_type": "execute_result"
    }
   ],
   "source": [
    "list[::2]#jump on second index"
   ]
  },
  {
   "cell_type": "code",
   "execution_count": 68,
   "id": "ac021afb",
   "metadata": {},
   "outputs": [
    {
     "data": {
      "text/plain": [
       "['raj', 'vishal', 'vikas', 'rohit', 'aditya']"
      ]
     },
     "execution_count": 68,
     "metadata": {},
     "output_type": "execute_result"
    }
   ],
   "source": [
    "list[::-1]#reverse entire list"
   ]
  },
  {
   "cell_type": "markdown",
   "id": "bfab4f44",
   "metadata": {},
   "source": [
    "5.write a python program to get the volume of sphere with rediuse "
   ]
  },
  {
   "cell_type": "code",
   "execution_count": 71,
   "id": "4a0c7fdb",
   "metadata": {},
   "outputs": [
    {
     "name": "stdout",
     "output_type": "stream",
     "text": [
      "enter rediuse6\n",
      "904.896\n"
     ]
    }
   ],
   "source": [
    "r=int(input(\"enter rediuse\"))\n",
    "pi=3.142\n",
    "def volumeofspehere(r):\n",
    "    volumeofspehere=4/3*pi*r**3\n",
    "    print(volumeofspehere)\n",
    "    \n",
    "volumeofspehere(r)\n",
    "  "
   ]
  },
  {
   "cell_type": "code",
   "execution_count": null,
   "id": "e5660217",
   "metadata": {},
   "outputs": [],
   "source": []
  },
  {
   "cell_type": "code",
   "execution_count": null,
   "id": "8e66e915",
   "metadata": {},
   "outputs": [],
   "source": []
  },
  {
   "cell_type": "code",
   "execution_count": null,
   "id": "0b02e500",
   "metadata": {},
   "outputs": [],
   "source": []
  },
  {
   "cell_type": "code",
   "execution_count": null,
   "id": "c82d4726",
   "metadata": {},
   "outputs": [],
   "source": []
  }
 ],
 "metadata": {
  "kernelspec": {
   "display_name": "Python 3 (ipykernel)",
   "language": "python",
   "name": "python3"
  },
  "language_info": {
   "codemirror_mode": {
    "name": "ipython",
    "version": 3
   },
   "file_extension": ".py",
   "mimetype": "text/x-python",
   "name": "python",
   "nbconvert_exporter": "python",
   "pygments_lexer": "ipython3",
   "version": "3.11.0"
  }
 },
 "nbformat": 4,
 "nbformat_minor": 5
}
