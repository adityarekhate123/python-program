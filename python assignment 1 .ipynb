{
 "cells": [
  {
   "cell_type": "markdown",
   "id": "80474123",
   "metadata": {},
   "source": [
    "1.Write a Python program to print 'Hello Python'"
   ]
  },
  {
   "cell_type": "code",
   "execution_count": 3,
   "id": "f3362266",
   "metadata": {},
   "outputs": [
    {
     "name": "stdout",
     "output_type": "stream",
     "text": [
      "hello world\n"
     ]
    }
   ],
   "source": [
    "print(\"hello world\")"
   ]
  },
  {
   "cell_type": "markdown",
   "id": "6d15ce56",
   "metadata": {},
   "source": [
    "2.Write a Python program to do arithmetic operations addition and division ?"
   ]
  },
  {
   "cell_type": "code",
   "execution_count": 6,
   "id": "76c9d392",
   "metadata": {},
   "outputs": [
    {
     "name": "stdout",
     "output_type": "stream",
     "text": [
      "enter your first number :6\n",
      "enter operator (+,-,*,/,%)*\n",
      "enter seccond number:5\n",
      "30\n"
     ]
    }
   ],
   "source": [
    "num1=int(input(\"enter your first number :\"))\n",
    "\n",
    "operator=input(\"enter operator (+,-,*,/,%)\")\n",
    "num2=int(input(\"enter seccond number:\"))\n",
    "if operator==\"+\":\n",
    "    print(num1+num2)\n",
    "elif operator==\"-\":\n",
    "    print(num1-num2)\n",
    "elif operator==\"*\":\n",
    "    print(num1*num2)\n",
    "elif operator==\"/\":\n",
    "    print(num1/num2)\n",
    "else:\n",
    "    print(\"invalid operator\")"
   ]
  },
  {
   "cell_type": "markdown",
   "id": "9fcbfd91",
   "metadata": {},
   "source": [
    "3.Write a Python program to find the area of a triangle ?"
   ]
  },
  {
   "cell_type": "code",
   "execution_count": 7,
   "id": "083801e7",
   "metadata": {},
   "outputs": [
    {
     "name": "stdout",
     "output_type": "stream",
     "text": [
      "enter the rediuse5\n",
      "78.5\n"
     ]
    }
   ],
   "source": [
    "rediuse=int(input(\"enter the rediuse\"))   #1 way\n",
    "pi=3.14\n",
    "area=pi*rediuse**2\n",
    "print(area)"
   ]
  },
  {
   "cell_type": "code",
   "execution_count": 8,
   "id": "e845c6e1",
   "metadata": {},
   "outputs": [
    {
     "data": {
      "text/plain": [
       "78.5"
      ]
     },
     "execution_count": 8,
     "metadata": {},
     "output_type": "execute_result"
    }
   ],
   "source": [
    "3.14*5**2\n"
   ]
  },
  {
   "cell_type": "code",
   "execution_count": 9,
   "id": "92338e51",
   "metadata": {},
   "outputs": [],
   "source": [
    "def areaofcircle(r):                   #2 way\n",
    "    areaofcircle=3.14*r**2\n",
    "    return areaofcircle"
   ]
  },
  {
   "cell_type": "code",
   "execution_count": 10,
   "id": "0bc0695f",
   "metadata": {},
   "outputs": [
    {
     "data": {
      "text/plain": [
       "78.5"
      ]
     },
     "execution_count": 10,
     "metadata": {},
     "output_type": "execute_result"
    }
   ],
   "source": [
    "areaofcircle(5)   #driver code\n"
   ]
  },
  {
   "cell_type": "markdown",
   "id": "885f2a10",
   "metadata": {},
   "source": [
    "3.Write a Python program to find the area of a triangle ?"
   ]
  },
  {
   "cell_type": "code",
   "execution_count": 15,
   "id": "edff2ca1",
   "metadata": {},
   "outputs": [],
   "source": [
    "def areaoftrangle(b,h):\n",
    "    areaoftrangle=0.5*(b*h)    \n",
    "    return areaoftrangle"
   ]
  },
  {
   "cell_type": "code",
   "execution_count": 16,
   "id": "26e10e9a",
   "metadata": {},
   "outputs": [
    {
     "data": {
      "text/plain": [
       "7500.0"
      ]
     },
     "execution_count": 16,
     "metadata": {},
     "output_type": "execute_result"
    }
   ],
   "source": [
    "areaoftrangle(150,100)   #driver code"
   ]
  },
  {
   "cell_type": "markdown",
   "id": "e48d6426",
   "metadata": {},
   "source": [
    "4.Write a Python program to swap two variables ?"
   ]
  },
  {
   "cell_type": "code",
   "execution_count": 18,
   "id": "bb7b6beb",
   "metadata": {},
   "outputs": [
    {
     "name": "stdout",
     "output_type": "stream",
     "text": [
      "number1 = 30\n",
      "number2 = 25\n"
     ]
    }
   ],
   "source": [
    "number1 = 25\n",
    "number2 = 30\n",
    "number1, number2 = number2, number1\n",
    "print(\"number1 =\", number1)\n",
    "print(\"number2 =\", number2)"
   ]
  },
  {
   "cell_type": "code",
   "execution_count": 24,
   "id": "da2dd8fb",
   "metadata": {},
   "outputs": [
    {
     "name": "stdout",
     "output_type": "stream",
     "text": [
      "before swapping\n",
      "a= 5\n",
      "b= 10\n",
      "after swapping\n",
      "a= 10\n",
      "b= 5\n"
     ]
    }
   ],
   "source": [
    "a=5\n",
    "b=10\n",
    "print(\"before swapping\")\n",
    "print(\"a=\",a)\n",
    "print(\"b=\",b)\n",
    "a,b=b,a\n",
    "print(\"after swapping\")\n",
    "print(\"a=\",a)\n",
    "print(\"b=\",b)"
   ]
  },
  {
   "cell_type": "markdown",
   "id": "9e4d5872",
   "metadata": {},
   "source": [
    "5.Write a Python program to generate a random number ?"
   ]
  },
  {
   "cell_type": "code",
   "execution_count": 47,
   "id": "eb6ab5ec",
   "metadata": {},
   "outputs": [],
   "source": [
    "import random"
   ]
  },
  {
   "cell_type": "code",
   "execution_count": 42,
   "id": "8f5253cb",
   "metadata": {},
   "outputs": [],
   "source": [
    "def random(start=0,stop=100):\n",
    "    print(\"random\",randint(start,stop))\n"
   ]
  },
  {
   "cell_type": "code",
   "execution_count": 46,
   "id": "23cc385f",
   "metadata": {},
   "outputs": [
    {
     "name": "stdout",
     "output_type": "stream",
     "text": [
      "random 6413\n"
     ]
    }
   ],
   "source": [
    "random(500,10000) #driver"
   ]
  },
  {
   "cell_type": "code",
   "execution_count": null,
   "id": "88718679",
   "metadata": {},
   "outputs": [],
   "source": []
  }
 ],
 "metadata": {
  "kernelspec": {
   "display_name": "Python 3 (ipykernel)",
   "language": "python",
   "name": "python3"
  },
  "language_info": {
   "codemirror_mode": {
    "name": "ipython",
    "version": 3
   },
   "file_extension": ".py",
   "mimetype": "text/x-python",
   "name": "python",
   "nbconvert_exporter": "python",
   "pygments_lexer": "ipython3",
   "version": "3.11.0"
  }
 },
 "nbformat": 4,
 "nbformat_minor": 5
}
