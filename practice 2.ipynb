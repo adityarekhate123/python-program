{
 "cells": [
  {
   "cell_type": "markdown",
   "id": "f87bd9db",
   "metadata": {},
   "source": [
    "1.write a python programme number is perfectly divisible by another number"
   ]
  },
  {
   "cell_type": "code",
   "execution_count": 4,
   "id": "e326a7c5",
   "metadata": {},
   "outputs": [
    {
     "name": "stdout",
     "output_type": "stream",
     "text": [
      "[3, 6, 9, 12, 15, 18, 21, 24, 27, 30, 33, 36, 39, 42, 45, 48, 51, 54, 57, 60, 63, 66, 69, 72, 75, 78, 81, 84, 87, 90, 93, 96, 99]\n"
     ]
    }
   ],
   "source": [
    "list=[]\n",
    "for i in range(1,100):\n",
    "    if i%3==0:\n",
    "        list.append(i)\n",
    "print(list)"
   ]
  },
  {
   "cell_type": "code",
   "execution_count": null,
   "id": "0e8da5f0",
   "metadata": {},
   "outputs": [],
   "source": [
    "supose we provide a list for finding divisible by 3 number\n"
   ]
  },
  {
   "cell_type": "code",
   "execution_count": 3,
   "id": "b65c8b01",
   "metadata": {},
   "outputs": [
    {
     "name": "stdout",
     "output_type": "stream",
     "text": [
      "enter upper range1\n",
      "enter lower range50\n",
      "3\n",
      "6\n",
      "9\n",
      "12\n",
      "15\n",
      "18\n",
      "21\n",
      "24\n",
      "27\n",
      "30\n",
      "33\n",
      "36\n",
      "39\n",
      "42\n",
      "45\n",
      "48\n"
     ]
    }
   ],
   "source": [
    "lower=int(input(\"enter upper range\"))\n",
    "upper=int(input(\"enter lower range\"))\n",
    "for i in range(lower,upper):\n",
    "    if i%3==0:\n",
    "        print(i)"
   ]
  },
  {
   "cell_type": "markdown",
   "id": "6d929d85",
   "metadata": {},
   "source": [
    "2.write python program to convert decimal to binary"
   ]
  },
  {
   "cell_type": "code",
   "execution_count": 29,
   "id": "7ec4a1d8",
   "metadata": {},
   "outputs": [
    {
     "name": "stdout",
     "output_type": "stream",
     "text": [
      "enter decimal number5\n",
      "decimal number is  5\n",
      "0b101 in binary\n",
      "0o5 in octal\n",
      "0x5 in hexadecimal\n"
     ]
    }
   ],
   "source": [
    "decimal=int(input(\"enter decimal number\"))\n",
    "print(\"decimal number is \",decimal)\n",
    "print(bin(decimal),\"in binary\")\n",
    "print(oct(decimal),\"in octal\")\n",
    "print(hex(decimal),\"in hexadecimal\")"
   ]
  },
  {
   "cell_type": "code",
   "execution_count": 32,
   "id": "ddc9d43d",
   "metadata": {},
   "outputs": [
    {
     "data": {
      "text/plain": [
       "'0b101'"
      ]
     },
     "execution_count": 32,
     "metadata": {},
     "output_type": "execute_result"
    }
   ],
   "source": [
    "bin(5)"
   ]
  },
  {
   "cell_type": "code",
   "execution_count": 33,
   "id": "1be36973",
   "metadata": {},
   "outputs": [
    {
     "data": {
      "text/plain": [
       "'0o5'"
      ]
     },
     "execution_count": 33,
     "metadata": {},
     "output_type": "execute_result"
    }
   ],
   "source": [
    "oct(5)"
   ]
  },
  {
   "cell_type": "code",
   "execution_count": 34,
   "id": "dd45dab4",
   "metadata": {},
   "outputs": [
    {
     "data": {
      "text/plain": [
       "'0x5'"
      ]
     },
     "execution_count": 34,
     "metadata": {},
     "output_type": "execute_result"
    }
   ],
   "source": [
    "hex(5)"
   ]
  },
  {
   "cell_type": "markdown",
   "id": "11277c52",
   "metadata": {},
   "source": [
    "3.write python programme to find ascii value of character"
   ]
  },
  {
   "cell_type": "code",
   "execution_count": 14,
   "id": "3ebe064c",
   "metadata": {},
   "outputs": [
    {
     "name": "stdout",
     "output_type": "stream",
     "text": [
      "the ascii value of  A is 65\n"
     ]
    }
   ],
   "source": [
    "char=\"A\"  #108\n",
    "print(\"the ascii value of \" ,char ,\"is\",ord(char))"
   ]
  },
  {
   "cell_type": "code",
   "execution_count": 15,
   "id": "58f466ec",
   "metadata": {},
   "outputs": [
    {
     "name": "stdout",
     "output_type": "stream",
     "text": [
      "the ascii value of  % is 37\n"
     ]
    }
   ],
   "source": [
    "char=\"%\"  #108 VALUES\n",
    "print(\"the ascii value of \" ,char ,\"is\",ord(char))"
   ]
  },
  {
   "cell_type": "code",
   "execution_count": 35,
   "id": "826e7587",
   "metadata": {},
   "outputs": [
    {
     "data": {
      "text/plain": [
       "97"
      ]
     },
     "execution_count": 35,
     "metadata": {},
     "output_type": "execute_result"
    }
   ],
   "source": [
    "ord(\"a\")"
   ]
  },
  {
   "cell_type": "code",
   "execution_count": 36,
   "id": "e64a1775",
   "metadata": {},
   "outputs": [
    {
     "data": {
      "text/plain": [
       "65"
      ]
     },
     "execution_count": 36,
     "metadata": {},
     "output_type": "execute_result"
    }
   ],
   "source": [
    "ord(\"A\")"
   ]
  },
  {
   "cell_type": "markdown",
   "id": "182c9806",
   "metadata": {},
   "source": [
    "4.write python programm for HCF(highest common factor) GCD(grettest common diviser)"
   ]
  },
  {
   "cell_type": "code",
   "execution_count": 23,
   "id": "4b7064bc",
   "metadata": {},
   "outputs": [
    {
     "name": "stdout",
     "output_type": "stream",
     "text": [
      "enter number12\n",
      "enter number30\n"
     ]
    },
    {
     "data": {
      "text/plain": [
       "6"
      ]
     },
     "execution_count": 23,
     "metadata": {},
     "output_type": "execute_result"
    }
   ],
   "source": [
    "x=int(input(\"enter number\"))\n",
    "y=int(input(\"enter number\"))\n",
    "\n",
    "def findhcf(x,y):  #12 AND 30 BOTH ARE IN TABLE OF 6\n",
    "    if x>y:\n",
    "        smaller =y\n",
    "    else:\n",
    "        smaller = x\n",
    "    for i in range(1,smaller +1):\n",
    "        if (x%i==0) and (y%i==0):\n",
    "            hcf=i #stored in hccf var\n",
    "            \n",
    "    return hcf\n",
    "        \n",
    "findhcf(x,y)\n",
    "    "
   ]
  },
  {
   "cell_type": "markdown",
   "id": "7f88d662",
   "metadata": {},
   "source": [
    "5.find the factors of a number example  2 and 5 are factor of 10"
   ]
  },
  {
   "cell_type": "code",
   "execution_count": 27,
   "id": "4731b33a",
   "metadata": {},
   "outputs": [
    {
     "name": "stdout",
     "output_type": "stream",
     "text": [
      "enter number12\n",
      "1\n",
      "2\n",
      "3\n",
      "4\n",
      "6\n",
      "12\n"
     ]
    }
   ],
   "source": [
    "num=int(input(\"enter number\"))\n",
    "for i in range(1,num+1):\n",
    "    if num%i==0:\n",
    "        print(i)      #12 come in 1,2,3,4,6,12 table"
   ]
  }
 ],
 "metadata": {
  "kernelspec": {
   "display_name": "Python 3 (ipykernel)",
   "language": "python",
   "name": "python3"
  },
  "language_info": {
   "codemirror_mode": {
    "name": "ipython",
    "version": 3
   },
   "file_extension": ".py",
   "mimetype": "text/x-python",
   "name": "python",
   "nbconvert_exporter": "python",
   "pygments_lexer": "ipython3",
   "version": "3.11.0"
  }
 },
 "nbformat": 4,
 "nbformat_minor": 5
}
