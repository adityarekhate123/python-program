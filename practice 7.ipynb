{
 "cells": [
  {
   "cell_type": "markdown",
   "id": "41a38828",
   "metadata": {},
   "source": [
    "1.write a python programme to itarate dictionary"
   ]
  },
  {
   "cell_type": "code",
   "execution_count": 3,
   "id": "4b123a45",
   "metadata": {},
   "outputs": [],
   "source": [
    "a={\"a\":\"aditya\",\"b\":\"rohit\",\"c\":\"aaksh\",\"d\":\"mahesh\"}"
   ]
  },
  {
   "cell_type": "code",
   "execution_count": 7,
   "id": "ba8af102",
   "metadata": {},
   "outputs": [
    {
     "name": "stdout",
     "output_type": "stream",
     "text": [
      "a\n",
      "b\n",
      "c\n",
      "d\n"
     ]
    }
   ],
   "source": [
    "for i in a.keys():  #for keys\n",
    "    print(i)"
   ]
  },
  {
   "cell_type": "code",
   "execution_count": 8,
   "id": "295e3c56",
   "metadata": {},
   "outputs": [
    {
     "name": "stdout",
     "output_type": "stream",
     "text": [
      "aditya\n",
      "rohit\n",
      "aaksh\n",
      "mahesh\n"
     ]
    }
   ],
   "source": [
    "for i in a.values():  #for values\n",
    "    print(i)"
   ]
  },
  {
   "cell_type": "code",
   "execution_count": 10,
   "id": "fddf16bd",
   "metadata": {},
   "outputs": [
    {
     "name": "stdout",
     "output_type": "stream",
     "text": [
      "('a', 'aditya')\n",
      "('b', 'rohit')\n",
      "('c', 'aaksh')\n",
      "('d', 'mahesh')\n"
     ]
    }
   ],
   "source": [
    "for i in a.items():   #for iteams\n",
    "    print(i)"
   ]
  },
  {
   "cell_type": "code",
   "execution_count": 11,
   "id": "a92bee67",
   "metadata": {},
   "outputs": [],
   "source": [
    "marks={\"mahesh\":98,\"raj\":55,\"rohit\":95}"
   ]
  },
  {
   "cell_type": "code",
   "execution_count": 14,
   "id": "7bcf8665",
   "metadata": {},
   "outputs": [
    {
     "name": "stdout",
     "output_type": "stream",
     "text": [
      "('mahesh', 98)\n",
      "('raj', 55)\n",
      "('rohit', 95)\n"
     ]
    }
   ],
   "source": [
    "for i in marks.items():\n",
    "    print(i)"
   ]
  },
  {
   "cell_type": "markdown",
   "id": "0d81a0bd",
   "metadata": {},
   "source": [
    "2.write python programme to sort a dictonary by value"
   ]
  },
  {
   "cell_type": "code",
   "execution_count": 16,
   "id": "2bf091a4",
   "metadata": {},
   "outputs": [],
   "source": [
    "marks={\"mahesh\":98,\"raj\":55,\"rohit\":95,\"vishal\":25}"
   ]
  },
  {
   "cell_type": "code",
   "execution_count": 17,
   "id": "70376605",
   "metadata": {},
   "outputs": [],
   "source": [
    "sv=sorted(marks.items(),key=lambda x:x[1]) #sort on the basis of value   1=values"
   ]
  },
  {
   "cell_type": "code",
   "execution_count": 18,
   "id": "fbaa1b76",
   "metadata": {},
   "outputs": [
    {
     "data": {
      "text/plain": [
       "[('vishal', 25), ('raj', 55), ('rohit', 95), ('mahesh', 98)]"
      ]
     },
     "execution_count": 18,
     "metadata": {},
     "output_type": "execute_result"
    }
   ],
   "source": [
    "sv"
   ]
  },
  {
   "cell_type": "code",
   "execution_count": 19,
   "id": "68c96fdf",
   "metadata": {},
   "outputs": [],
   "source": [
    "sv=sorted(marks.items(),key =lambda x:x[0])  #sort on the basis of keys   0=keys"
   ]
  },
  {
   "cell_type": "code",
   "execution_count": 20,
   "id": "88546e47",
   "metadata": {},
   "outputs": [
    {
     "data": {
      "text/plain": [
       "[('mahesh', 98), ('raj', 55), ('rohit', 95), ('vishal', 25)]"
      ]
     },
     "execution_count": 20,
     "metadata": {},
     "output_type": "execute_result"
    }
   ],
   "source": [
    "sv"
   ]
  },
  {
   "cell_type": "markdown",
   "id": "b10962a3",
   "metadata": {},
   "source": [
    "3.write a python programme to check if a list is empty"
   ]
  },
  {
   "cell_type": "code",
   "execution_count": 24,
   "id": "d59ea295",
   "metadata": {},
   "outputs": [
    {
     "name": "stdout",
     "output_type": "stream",
     "text": [
      "list have elment\n"
     ]
    }
   ],
   "source": [
    "my_list=[12,52]\n",
    "if not my_list:\n",
    "    print(\"list is empty\")\n",
    "else:\n",
    "    print(\"list have elment\")"
   ]
  },
  {
   "cell_type": "code",
   "execution_count": 25,
   "id": "ee287433",
   "metadata": {},
   "outputs": [
    {
     "name": "stdout",
     "output_type": "stream",
     "text": [
      "empty\n"
     ]
    }
   ],
   "source": [
    "my_list=[]\n",
    "if not my_list:\n",
    "    print('empty')"
   ]
  },
  {
   "cell_type": "markdown",
   "id": "19ae1e14",
   "metadata": {},
   "source": [
    "4.write a python programme to concatenate two string"
   ]
  },
  {
   "cell_type": "code",
   "execution_count": 59,
   "id": "c73c3c93",
   "metadata": {},
   "outputs": [
    {
     "name": "stdout",
     "output_type": "stream",
     "text": [
      "enter a stringAditya \n",
      "enter a stingRekhate\n",
      "Aditya Rekhate\n"
     ]
    }
   ],
   "source": [
    "a=input(\"enter a string\")\n",
    "b=input(\"enter a sting\")\n",
    "print(a + b)"
   ]
  },
  {
   "cell_type": "markdown",
   "id": "fa8b4728",
   "metadata": {},
   "source": [
    "5.write a python programme to concatenate"
   ]
  },
  {
   "cell_type": "code",
   "execution_count": 52,
   "id": "c1cfeb4a",
   "metadata": {},
   "outputs": [],
   "source": [
    "a=[12,5,432,552,12,25,12]\n",
    "b=[12,58,31,12,25,11]"
   ]
  },
  {
   "cell_type": "code",
   "execution_count": 53,
   "id": "6bcab24c",
   "metadata": {},
   "outputs": [],
   "source": [
    "v=a+b  #add element of bot list"
   ]
  },
  {
   "cell_type": "code",
   "execution_count": 54,
   "id": "d785e488",
   "metadata": {},
   "outputs": [
    {
     "name": "stdout",
     "output_type": "stream",
     "text": [
      "[12, 5, 432, 552, 12, 25, 12, 12, 58, 31, 12, 25, 11]\n"
     ]
    }
   ],
   "source": [
    "print(v)"
   ]
  },
  {
   "cell_type": "code",
   "execution_count": 55,
   "id": "2788a9f9",
   "metadata": {},
   "outputs": [
    {
     "data": {
      "text/plain": [
       "{5, 11, 12, 25, 31, 58, 432, 552}"
      ]
     },
     "execution_count": 55,
     "metadata": {},
     "output_type": "execute_result"
    }
   ],
   "source": [
    "set(v) #we get unique element from both list"
   ]
  },
  {
   "cell_type": "code",
   "execution_count": 56,
   "id": "27fc8104",
   "metadata": {},
   "outputs": [
    {
     "data": {
      "text/plain": [
       "{5, 11, 12, 25, 31, 58, 432, 552}"
      ]
     },
     "execution_count": 56,
     "metadata": {},
     "output_type": "execute_result"
    }
   ],
   "source": [
    "set(a+b)"
   ]
  },
  {
   "cell_type": "code",
   "execution_count": null,
   "id": "874adcf2",
   "metadata": {},
   "outputs": [],
   "source": []
  },
  {
   "cell_type": "code",
   "execution_count": null,
   "id": "3a28fd4f",
   "metadata": {},
   "outputs": [],
   "source": []
  }
 ],
 "metadata": {
  "kernelspec": {
   "display_name": "Python 3 (ipykernel)",
   "language": "python",
   "name": "python3"
  },
  "language_info": {
   "codemirror_mode": {
    "name": "ipython",
    "version": 3
   },
   "file_extension": ".py",
   "mimetype": "text/x-python",
   "name": "python",
   "nbconvert_exporter": "python",
   "pygments_lexer": "ipython3",
   "version": "3.11.0"
  }
 },
 "nbformat": 4,
 "nbformat_minor": 5
}
