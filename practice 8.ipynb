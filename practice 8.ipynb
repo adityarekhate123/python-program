{
 "cells": [
  {
   "cell_type": "markdown",
   "id": "d15ab505",
   "metadata": {},
   "source": [
    "1.Write a python programe to handling exception "
   ]
  },
  {
   "cell_type": "code",
   "execution_count": 15,
   "id": "72feab21",
   "metadata": {},
   "outputs": [
    {
     "name": "stdout",
     "output_type": "stream",
     "text": [
      "enter a number5\n",
      "enter a stringhj\n",
      "'str' object is not callable\n"
     ]
    }
   ],
   "source": [
    "number =int(input(\"enter a number\"))\n",
    "try:\n",
    "    \n",
    "    str = str(input(\"enter a string\"))     #error can concatnate int to int\n",
    "    print(number+str)\n",
    "except(TypeError,ValueError) as a:\n",
    "    print(a)"
   ]
  },
  {
   "cell_type": "code",
   "execution_count": 72,
   "id": "0eb0b3e6",
   "metadata": {},
   "outputs": [
    {
     "name": "stdout",
     "output_type": "stream",
     "text": [
      "enter number5\n",
      "enter a stringj\n",
      "'str' object is not callable\n"
     ]
    }
   ],
   "source": [
    "number=int(input(\"enter number\"))\n",
    "try:\n",
    "    \n",
    "    str=str(input(\"enter a string\"))\n",
    "    print(number +str)\n",
    "except(TypeError,ValueError) as a:\n",
    "    print(a)\n",
    "    "
   ]
  },
  {
   "cell_type": "raw",
   "id": "61f614ba",
   "metadata": {},
   "source": [
    "ValueError ---int place str,str place int\n",
    "syntaxError---forgot comma ,(),:\n",
    "logicalError---there are 4 element in list but we try to get 5 element user mistek\n",
    "typerror ---int not cocatnate with string"
   ]
  },
  {
   "cell_type": "markdown",
   "id": "254951b4",
   "metadata": {},
   "source": [
    "02.write python program to get substring from string "
   ]
  },
  {
   "cell_type": "code",
   "execution_count": 27,
   "id": "532411ea",
   "metadata": {},
   "outputs": [],
   "source": [
    "name= \"Aditya Rekhate\""
   ]
  },
  {
   "cell_type": "code",
   "execution_count": 31,
   "id": "9e079d4a",
   "metadata": {},
   "outputs": [
    {
     "name": "stdout",
     "output_type": "stream",
     "text": [
      "R\n",
      "e\n",
      "h\n",
      "t\n",
      "ditya\n",
      "Rekh\n",
      "Rekh\n"
     ]
    }
   ],
   "source": [
    "print(name[7])\n",
    "print(name[-1])\n",
    "print(name[-4])\n",
    "print(name[3])\n",
    "print(name[1:6])\n",
    "print(name[7:11]) #positive indexing\n",
    "print(name[-7:-3])#nigative indexing"
   ]
  },
  {
   "cell_type": "code",
   "execution_count": 23,
   "id": "95bf71e6",
   "metadata": {},
   "outputs": [],
   "source": [
    "name=\"aditya\",\"rohit\",\"vishal\",'vikas'"
   ]
  },
  {
   "cell_type": "code",
   "execution_count": 26,
   "id": "aaa19c59",
   "metadata": {},
   "outputs": [
    {
     "name": "stdout",
     "output_type": "stream",
     "text": [
      "vikas\n",
      "rohit\n",
      "rohit\n"
     ]
    }
   ],
   "source": [
    "print(name[-1])\n",
    "print(name[1])\n",
    "print(name[-3])"
   ]
  },
  {
   "cell_type": "markdown",
   "id": "b671e843",
   "metadata": {},
   "source": [
    "3.write a python programme for datatypes"
   ]
  },
  {
   "cell_type": "code",
   "execution_count": 46,
   "id": "157da9e2",
   "metadata": {},
   "outputs": [
    {
     "name": "stdout",
     "output_type": "stream",
     "text": [
      "<class 'str'>\n",
      "2255\n",
      "<class 'NoneType'>\n"
     ]
    }
   ],
   "source": [
    "number=\"2255\"\n",
    "print(type(number))\n",
    "b=print(int(number))\n",
    "print(type(b))\n"
   ]
  },
  {
   "cell_type": "code",
   "execution_count": 49,
   "id": "01ccf439",
   "metadata": {},
   "outputs": [
    {
     "data": {
      "text/plain": [
       "float"
      ]
     },
     "execution_count": 49,
     "metadata": {},
     "output_type": "execute_result"
    }
   ],
   "source": [
    "b=float(number)\n",
    "type(b)"
   ]
  },
  {
   "cell_type": "code",
   "execution_count": 50,
   "id": "2da33d9d",
   "metadata": {},
   "outputs": [
    {
     "data": {
      "text/plain": [
       "int"
      ]
     },
     "execution_count": 50,
     "metadata": {},
     "output_type": "execute_result"
    }
   ],
   "source": [
    "b=int(number)\n",
    "type(b)"
   ]
  },
  {
   "cell_type": "markdown",
   "id": "19ee1d9b",
   "metadata": {},
   "source": [
    "4.write a python program to get last element from string"
   ]
  },
  {
   "cell_type": "code",
   "execution_count": 51,
   "id": "8d88b934",
   "metadata": {},
   "outputs": [
    {
     "data": {
      "text/plain": [
       "'u'"
      ]
     },
     "execution_count": 51,
     "metadata": {},
     "output_type": "execute_result"
    }
   ],
   "source": [
    "a=\"mahesh babu\"\n",
    "a[-1]"
   ]
  },
  {
   "cell_type": "code",
   "execution_count": 54,
   "id": "11841c43",
   "metadata": {},
   "outputs": [
    {
     "data": {
      "text/plain": [
       "'babu'"
      ]
     },
     "execution_count": 54,
     "metadata": {},
     "output_type": "execute_result"
    }
   ],
   "source": [
    "a[-4:]"
   ]
  },
  {
   "cell_type": "markdown",
   "id": "0a5ad054",
   "metadata": {},
   "source": [
    "5.write a python programme to check key already prsent in dictionary"
   ]
  },
  {
   "cell_type": "code",
   "execution_count": 63,
   "id": "db914d4b",
   "metadata": {},
   "outputs": [
    {
     "name": "stdout",
     "output_type": "stream",
     "text": [
      "enter a keys()a\n"
     ]
    }
   ],
   "source": [
    "c={\"a\":\"aditya\",\"b\":\"vikas\",\"c\":\"shubham\"}\n",
    "key=input('enter a keys()')"
   ]
  },
  {
   "cell_type": "code",
   "execution_count": 64,
   "id": "a1a9537e",
   "metadata": {},
   "outputs": [
    {
     "name": "stdout",
     "output_type": "stream",
     "text": [
      "its present\n"
     ]
    }
   ],
   "source": [
    "if key in c.keys():   #for checking keys is present or not\n",
    "    \n",
    "    print(\"its present\")"
   ]
  },
  {
   "cell_type": "code",
   "execution_count": 68,
   "id": "c0a092ac",
   "metadata": {},
   "outputs": [
    {
     "name": "stdout",
     "output_type": "stream",
     "text": [
      "enter a valuesaditya\n",
      "yes its present \n"
     ]
    }
   ],
   "source": [
    "values=input(\"enter a values\") #for checking the values present or not\n",
    "if values in c.values():\n",
    "    print(\"yes its present \")\n",
    "else:\n",
    "    print(\"not present\")"
   ]
  },
  {
   "cell_type": "markdown",
   "id": "b05d2445",
   "metadata": {},
   "source": [
    "6.write a python program to print outputs without newline"
   ]
  },
  {
   "cell_type": "code",
   "execution_count": 70,
   "id": "7d4d3baf",
   "metadata": {},
   "outputs": [
    {
     "name": "stdout",
     "output_type": "stream",
     "text": [
      "aditya Rekhate\n"
     ]
    }
   ],
   "source": [
    "print(\"aditya\",end=\" \")\n",
    "print(\"Rekhate\")"
   ]
  },
  {
   "cell_type": "code",
   "execution_count": null,
   "id": "64e37e0f",
   "metadata": {},
   "outputs": [],
   "source": []
  },
  {
   "cell_type": "code",
   "execution_count": null,
   "id": "3fa445fc",
   "metadata": {},
   "outputs": [],
   "source": []
  },
  {
   "cell_type": "code",
   "execution_count": null,
   "id": "23d504a1",
   "metadata": {},
   "outputs": [],
   "source": []
  },
  {
   "cell_type": "code",
   "execution_count": null,
   "id": "d9db5b3d",
   "metadata": {},
   "outputs": [],
   "source": []
  }
 ],
 "metadata": {
  "kernelspec": {
   "display_name": "Python 3 (ipykernel)",
   "language": "python",
   "name": "python3"
  },
  "language_info": {
   "codemirror_mode": {
    "name": "ipython",
    "version": 3
   },
   "file_extension": ".py",
   "mimetype": "text/x-python",
   "name": "python",
   "nbconvert_exporter": "python",
   "pygments_lexer": "ipython3",
   "version": "3.11.0"
  }
 },
 "nbformat": 4,
 "nbformat_minor": 5
}
