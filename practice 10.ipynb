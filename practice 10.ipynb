{
 "cells": [
  {
   "cell_type": "markdown",
   "id": "bada63dc",
   "metadata": {},
   "source": [
    "1.write a python programe to find maximum and minimum element from the given list"
   ]
  },
  {
   "cell_type": "code",
   "execution_count": 1,
   "id": "6f5a15df",
   "metadata": {},
   "outputs": [],
   "source": [
    "list=[25,8,95,64,87,54,25,25,50]"
   ]
  },
  {
   "cell_type": "code",
   "execution_count": 3,
   "id": "c03c6119",
   "metadata": {},
   "outputs": [
    {
     "name": "stdout",
     "output_type": "stream",
     "text": [
      "the maximum element is 95\n"
     ]
    }
   ],
   "source": [
    "max_element=max(list)\n",
    "print(\"the maximum element is\",max_element)"
   ]
  },
  {
   "cell_type": "code",
   "execution_count": 4,
   "id": "2090821d",
   "metadata": {},
   "outputs": [
    {
     "name": "stdout",
     "output_type": "stream",
     "text": [
      "the minimum element is 8\n"
     ]
    }
   ],
   "source": [
    "min_element=min(list)\n",
    "print(\"the minimum element is\",min_element)"
   ]
  },
  {
   "cell_type": "markdown",
   "id": "32e23abe",
   "metadata": {},
   "source": [
    "2.write a python programe to check if the given is list or tuple or set"
   ]
  },
  {
   "cell_type": "code",
   "execution_count": 43,
   "id": "92056d56",
   "metadata": {},
   "outputs": [
    {
     "name": "stdout",
     "output_type": "stream",
     "text": [
      "x is tuple\n"
     ]
    }
   ],
   "source": [
    "x=(25,6,78,\"hh\")\n",
    "#x={25,85,55,55}\n",
    "#x=[\"d\",\"k\"]\n",
    "if type(x) is  list:\n",
    "    print(\"x is  list\")\n",
    "elif type(x) is tuple:\n",
    "    print(\"x is tuple\")\n",
    "elif type(x) is set:\n",
    "    print(\"x is  set\")\n",
    "else:\n",
    "    print(\"not a list or set or tuple\")"
   ]
  },
  {
   "cell_type": "code",
   "execution_count": 20,
   "id": "c7f47cf1",
   "metadata": {},
   "outputs": [
    {
     "data": {
      "text/plain": [
       "list"
      ]
     },
     "execution_count": 20,
     "metadata": {},
     "output_type": "execute_result"
    }
   ],
   "source": [
    "type(x)"
   ]
  },
  {
   "cell_type": "markdown",
   "id": "cbefd303",
   "metadata": {},
   "source": [
    "3.write a python programe to get number divisible 15"
   ]
  },
  {
   "cell_type": "code",
   "execution_count": 30,
   "id": "230e7fd2",
   "metadata": {},
   "outputs": [
    {
     "name": "stdout",
     "output_type": "stream",
     "text": [
      "0\n",
      "15\n",
      "30\n",
      "45\n",
      "60\n",
      "75\n",
      "90\n"
     ]
    }
   ],
   "source": [
    "for i in range(100):\n",
    "    if i%15==0:\n",
    "        print(i)"
   ]
  },
  {
   "cell_type": "markdown",
   "id": "b9b7cee1",
   "metadata": {},
   "source": [
    "4.write a python programme for\n",
    "1.couts the element\n",
    "2.total of the list\n",
    "3.sort the list  in asending order"
   ]
  },
  {
   "cell_type": "code",
   "execution_count": 31,
   "id": "8b014600",
   "metadata": {},
   "outputs": [],
   "source": [
    "b=[25,68,55,59,558,56,65]"
   ]
  },
  {
   "cell_type": "code",
   "execution_count": 33,
   "id": "32151a34",
   "metadata": {},
   "outputs": [
    {
     "data": {
      "text/plain": [
       "7"
      ]
     },
     "execution_count": 33,
     "metadata": {},
     "output_type": "execute_result"
    }
   ],
   "source": [
    "#couts how many elemeent in a list\n",
    "len(b)"
   ]
  },
  {
   "cell_type": "code",
   "execution_count": 34,
   "id": "6641aa4f",
   "metadata": {},
   "outputs": [
    {
     "data": {
      "text/plain": [
       "886"
      ]
     },
     "execution_count": 34,
     "metadata": {},
     "output_type": "execute_result"
    }
   ],
   "source": [
    "#total of the all element\n",
    "sum(b)"
   ]
  },
  {
   "cell_type": "code",
   "execution_count": 36,
   "id": "9af50644",
   "metadata": {},
   "outputs": [
    {
     "data": {
      "text/plain": [
       "[25, 55, 56, 59, 65, 68, 558]"
      ]
     },
     "execution_count": 36,
     "metadata": {},
     "output_type": "execute_result"
    }
   ],
   "source": [
    "#sort the list\n",
    "sorted(b)"
   ]
  },
  {
   "cell_type": "markdown",
   "id": "2cf057cc",
   "metadata": {},
   "source": [
    "5.write a python programe to convert entire string in lowercase and uppercase"
   ]
  },
  {
   "cell_type": "code",
   "execution_count": 39,
   "id": "951a3f6a",
   "metadata": {},
   "outputs": [
    {
     "data": {
      "text/plain": [
       "'ADITYA REKHATE'"
      ]
     },
     "execution_count": 39,
     "metadata": {},
     "output_type": "execute_result"
    }
   ],
   "source": [
    "str=\"aditya rekhate\"\n",
    "str.upper()"
   ]
  },
  {
   "cell_type": "code",
   "execution_count": 40,
   "id": "261a0e00",
   "metadata": {},
   "outputs": [
    {
     "data": {
      "text/plain": [
       "'aditya rekhate'"
      ]
     },
     "execution_count": 40,
     "metadata": {},
     "output_type": "execute_result"
    }
   ],
   "source": [
    "str.lower()"
   ]
  },
  {
   "cell_type": "code",
   "execution_count": null,
   "id": "9d388e10",
   "metadata": {},
   "outputs": [],
   "source": []
  },
  {
   "cell_type": "code",
   "execution_count": null,
   "id": "90018fc9",
   "metadata": {},
   "outputs": [],
   "source": []
  }
 ],
 "metadata": {
  "kernelspec": {
   "display_name": "Python 3 (ipykernel)",
   "language": "python",
   "name": "python3"
  },
  "language_info": {
   "codemirror_mode": {
    "name": "ipython",
    "version": 3
   },
   "file_extension": ".py",
   "mimetype": "text/x-python",
   "name": "python",
   "nbconvert_exporter": "python",
   "pygments_lexer": "ipython3",
   "version": "3.11.0"
  }
 },
 "nbformat": 4,
 "nbformat_minor": 5
}
