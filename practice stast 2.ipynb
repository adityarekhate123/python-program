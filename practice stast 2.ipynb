{
 "cells": [
  {
   "cell_type": "code",
   "execution_count": 1,
   "id": "9715d267",
   "metadata": {},
   "outputs": [],
   "source": [
    "import numpy as np\n",
    "import statistics as sts"
   ]
  },
  {
   "cell_type": "code",
   "execution_count": 9,
   "id": "f1618870",
   "metadata": {},
   "outputs": [],
   "source": [
    "list=[25,85,85,565,885,855,885,65,65]"
   ]
  },
  {
   "cell_type": "markdown",
   "id": "e339699e",
   "metadata": {},
   "source": [
    "1.write a python program for mean"
   ]
  },
  {
   "cell_type": "code",
   "execution_count": 11,
   "id": "781519a5",
   "metadata": {},
   "outputs": [
    {
     "name": "stdout",
     "output_type": "stream",
     "text": [
      "the mean is 390.55555555555554\n"
     ]
    }
   ],
   "source": [
    "def mean(list):\n",
    "    return np.mean(list)\n",
    "f=mean(list)\n",
    "print(f\"the mean is {f}\")"
   ]
  },
  {
   "cell_type": "markdown",
   "id": "4d5e636e",
   "metadata": {},
   "source": [
    "2.write a python programe to median"
   ]
  },
  {
   "cell_type": "code",
   "execution_count": 12,
   "id": "797310d0",
   "metadata": {},
   "outputs": [
    {
     "name": "stdout",
     "output_type": "stream",
     "text": [
      " The median is 85.0\n"
     ]
    }
   ],
   "source": [
    "def median(list):\n",
    "    return np.median(list)\n",
    "f=median(list)\n",
    "print(f\" The median is {f}\")"
   ]
  },
  {
   "cell_type": "markdown",
   "id": "ba133416",
   "metadata": {},
   "source": [
    "3.write a python programe for mode"
   ]
  },
  {
   "cell_type": "code",
   "execution_count": 13,
   "id": "61737a87",
   "metadata": {},
   "outputs": [
    {
     "name": "stdout",
     "output_type": "stream",
     "text": [
      "The median is 85\n"
     ]
    }
   ],
   "source": [
    "def mode(list):\n",
    "    return sts.mode(list)\n",
    "f=mode(list)\n",
    "print(f\"The median is {f}\")"
   ]
  },
  {
   "cell_type": "markdown",
   "id": "47d64dba",
   "metadata": {},
   "source": [
    "4.write a python programe for give standrad deviation"
   ]
  },
  {
   "cell_type": "code",
   "execution_count": 14,
   "id": "33aae537",
   "metadata": {},
   "outputs": [
    {
     "name": "stdout",
     "output_type": "stream",
     "text": [
      "the standrad deviation is 398.0298704592129\n"
     ]
    }
   ],
   "source": [
    "def standrdD(list):\n",
    "    return sts.stdev(list)\n",
    "f=standrdD(list)\n",
    "print(f\"the standrad deviation is {f}\")"
   ]
  },
  {
   "cell_type": "markdown",
   "id": "eff3be30",
   "metadata": {},
   "source": [
    "5.write a python programe for variance"
   ]
  },
  {
   "cell_type": "code",
   "execution_count": 21,
   "id": "fc03276b",
   "metadata": {},
   "outputs": [
    {
     "name": "stdout",
     "output_type": "stream",
     "text": [
      "The variance is 158427.77777777778\n"
     ]
    }
   ],
   "source": [
    "def variance(list):\n",
    "    return sts.variance(list)\n",
    "f=variance(list)\n",
    "print(f\"The variance is {f}\")"
   ]
  },
  {
   "cell_type": "code",
   "execution_count": null,
   "id": "1bc3cf1b",
   "metadata": {},
   "outputs": [],
   "source": []
  },
  {
   "cell_type": "code",
   "execution_count": 22,
   "id": "73c49fec",
   "metadata": {},
   "outputs": [],
   "source": [
    "list1=[25,6,5,8,2,55,21,22,252,252,22,]"
   ]
  },
  {
   "cell_type": "code",
   "execution_count": 25,
   "id": "4aacd1c5",
   "metadata": {},
   "outputs": [
    {
     "data": {
      "text/plain": [
       "[2, 5, 6, 8, 21, 22, 22, 25, 55, 252, 252]"
      ]
     },
     "execution_count": 25,
     "metadata": {},
     "output_type": "execute_result"
    }
   ],
   "source": [
    "a=sorted(list1)\n",
    "\n",
    "a"
   ]
  },
  {
   "cell_type": "code",
   "execution_count": 26,
   "id": "5d088bd9",
   "metadata": {},
   "outputs": [
    {
     "data": {
      "text/plain": [
       "22.0"
      ]
     },
     "execution_count": 26,
     "metadata": {},
     "output_type": "execute_result"
    }
   ],
   "source": [
    "np.median(a)"
   ]
  },
  {
   "cell_type": "code",
   "execution_count": 27,
   "id": "5bdff507",
   "metadata": {},
   "outputs": [
    {
     "name": "stdout",
     "output_type": "stream",
     "text": [
      "the median is 22.0\n"
     ]
    }
   ],
   "source": [
    "def median(list1):\n",
    "    return np.median(list1)\n",
    "f=median(list1)\n",
    "print(f\"the median is {f}\")"
   ]
  },
  {
   "cell_type": "code",
   "execution_count": null,
   "id": "a735f76a",
   "metadata": {},
   "outputs": [],
   "source": []
  }
 ],
 "metadata": {
  "kernelspec": {
   "display_name": "Python 3 (ipykernel)",
   "language": "python",
   "name": "python3"
  },
  "language_info": {
   "codemirror_mode": {
    "name": "ipython",
    "version": 3
   },
   "file_extension": ".py",
   "mimetype": "text/x-python",
   "name": "python",
   "nbconvert_exporter": "python",
   "pygments_lexer": "ipython3",
   "version": "3.11.0"
  }
 },
 "nbformat": 4,
 "nbformat_minor": 5
}
